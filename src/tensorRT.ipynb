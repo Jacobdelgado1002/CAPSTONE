{
 "cells": [
  {
   "cell_type": "markdown",
   "metadata": {},
   "source": [
    "# TensorRT"
   ]
  },
  {
   "cell_type": "code",
   "execution_count": 1,
   "metadata": {},
   "outputs": [
    {
     "name": "stderr",
     "output_type": "stream",
     "text": [
      "2024-10-24 19:49:00.342419: I tensorflow/core/util/port.cc:153] oneDNN custom operations are on. You may see slightly different numerical results due to floating-point round-off errors from different computation orders. To turn them off, set the environment variable `TF_ENABLE_ONEDNN_OPTS=0`.\n",
      "2024-10-24 19:49:00.352145: E external/local_xla/xla/stream_executor/cuda/cuda_fft.cc:485] Unable to register cuFFT factory: Attempting to register factory for plugin cuFFT when one has already been registered\n",
      "2024-10-24 19:49:00.362564: E external/local_xla/xla/stream_executor/cuda/cuda_dnn.cc:8454] Unable to register cuDNN factory: Attempting to register factory for plugin cuDNN when one has already been registered\n",
      "2024-10-24 19:49:00.365663: E external/local_xla/xla/stream_executor/cuda/cuda_blas.cc:1452] Unable to register cuBLAS factory: Attempting to register factory for plugin cuBLAS when one has already been registered\n",
      "2024-10-24 19:49:00.374597: I tensorflow/core/platform/cpu_feature_guard.cc:210] This TensorFlow binary is optimized to use available CPU instructions in performance-critical operations.\n",
      "To enable the following instructions: AVX2 AVX512F AVX512_VNNI AVX512_BF16 FMA, in other operations, rebuild TensorFlow with the appropriate compiler flags.\n",
      "2024-10-24 19:49:00.787875: W tensorflow/compiler/tf2tensorrt/utils/py_utils.cc:38] TF-TRT Warning: Could not find TensorRT\n"
     ]
    }
   ],
   "source": [
    "import pathlib\n",
    "import os\n",
    "import time\n",
    "import numpy as np\n",
    "import tensorflow as tf\n",
    "# from sklearn.model_selection import train_test_split\n",
    "# from tensorflow.keras.models import load_model"
   ]
  },
  {
   "cell_type": "code",
   "execution_count": 2,
   "metadata": {},
   "outputs": [
    {
     "name": "stdout",
     "output_type": "stream",
     "text": [
      "Num GPUs Available:  2\n"
     ]
    },
    {
     "name": "stderr",
     "output_type": "stream",
     "text": [
      "WARNING: All log messages before absl::InitializeLog() is called are written to STDERR\n",
      "I0000 00:00:1729813741.212840   18013 cuda_executor.cc:1015] successful NUMA node read from SysFS had negative value (-1), but there must be at least one NUMA node, so returning NUMA node zero. See more at https://github.com/torvalds/linux/blob/v6.0/Documentation/ABI/testing/sysfs-bus-pci#L344-L355\n",
      "I0000 00:00:1729813741.213016   18013 cuda_executor.cc:1015] successful NUMA node read from SysFS had negative value (-1), but there must be at least one NUMA node, so returning NUMA node zero. See more at https://github.com/torvalds/linux/blob/v6.0/Documentation/ABI/testing/sysfs-bus-pci#L344-L355\n",
      "I0000 00:00:1729813741.243770   18013 cuda_executor.cc:1015] successful NUMA node read from SysFS had negative value (-1), but there must be at least one NUMA node, so returning NUMA node zero. See more at https://github.com/torvalds/linux/blob/v6.0/Documentation/ABI/testing/sysfs-bus-pci#L344-L355\n",
      "I0000 00:00:1729813741.243973   18013 cuda_executor.cc:1015] successful NUMA node read from SysFS had negative value (-1), but there must be at least one NUMA node, so returning NUMA node zero. See more at https://github.com/torvalds/linux/blob/v6.0/Documentation/ABI/testing/sysfs-bus-pci#L344-L355\n",
      "I0000 00:00:1729813741.244257   18013 cuda_executor.cc:1015] successful NUMA node read from SysFS had negative value (-1), but there must be at least one NUMA node, so returning NUMA node zero. See more at https://github.com/torvalds/linux/blob/v6.0/Documentation/ABI/testing/sysfs-bus-pci#L344-L355\n",
      "I0000 00:00:1729813741.244362   18013 cuda_executor.cc:1015] successful NUMA node read from SysFS had negative value (-1), but there must be at least one NUMA node, so returning NUMA node zero. See more at https://github.com/torvalds/linux/blob/v6.0/Documentation/ABI/testing/sysfs-bus-pci#L344-L355\n"
     ]
    }
   ],
   "source": [
    "print(\"Num GPUs Available: \", len(tf.config.list_physical_devices('GPU')))"
   ]
  },
  {
   "cell_type": "code",
   "execution_count": null,
   "metadata": {},
   "outputs": [
    {
     "name": "stdout",
     "output_type": "stream",
     "text": [
      "[name: \"/device:CPU:0\"\n",
      "device_type: \"CPU\"\n",
      "memory_limit: 268435456\n",
      "locality {\n",
      "}\n",
      "incarnation: 14603864997363321543\n",
      "xla_global_id: -1\n",
      ", name: \"/device:GPU:0\"\n",
      "device_type: \"GPU\"\n",
      "memory_limit: 22914203648\n",
      "locality {\n",
      "  bus_id: 1\n",
      "  links {\n",
      "  }\n",
      "}\n",
      "incarnation: 4160016612379630869\n",
      "physical_device_desc: \"device: 0, name: NVIDIA GeForce RTX 4090, pci bus id: 0000:41:00.0, compute capability: 8.9\"\n",
      "xla_global_id: 416903419\n",
      ", name: \"/device:GPU:1\"\n",
      "device_type: \"GPU\"\n",
      "memory_limit: 23354408960\n",
      "locality {\n",
      "  bus_id: 1\n",
      "  links {\n",
      "  }\n",
      "}\n",
      "incarnation: 4831840866701438019\n",
      "physical_device_desc: \"device: 1, name: NVIDIA GeForce RTX 4090, pci bus id: 0000:82:00.0, compute capability: 8.9\"\n",
      "xla_global_id: 2144165316\n",
      "]\n"
     ]
    },
    {
     "name": "stderr",
     "output_type": "stream",
     "text": [
      "I0000 00:00:1729813741.368871   18013 cuda_executor.cc:1015] successful NUMA node read from SysFS had negative value (-1), but there must be at least one NUMA node, so returning NUMA node zero. See more at https://github.com/torvalds/linux/blob/v6.0/Documentation/ABI/testing/sysfs-bus-pci#L344-L355\n",
      "I0000 00:00:1729813741.369036   18013 cuda_executor.cc:1015] successful NUMA node read from SysFS had negative value (-1), but there must be at least one NUMA node, so returning NUMA node zero. See more at https://github.com/torvalds/linux/blob/v6.0/Documentation/ABI/testing/sysfs-bus-pci#L344-L355\n",
      "I0000 00:00:1729813741.369146   18013 cuda_executor.cc:1015] successful NUMA node read from SysFS had negative value (-1), but there must be at least one NUMA node, so returning NUMA node zero. See more at https://github.com/torvalds/linux/blob/v6.0/Documentation/ABI/testing/sysfs-bus-pci#L344-L355\n",
      "I0000 00:00:1729813741.369247   18013 cuda_executor.cc:1015] successful NUMA node read from SysFS had negative value (-1), but there must be at least one NUMA node, so returning NUMA node zero. See more at https://github.com/torvalds/linux/blob/v6.0/Documentation/ABI/testing/sysfs-bus-pci#L344-L355\n",
      "I0000 00:00:1729813741.369347   18013 cuda_executor.cc:1015] successful NUMA node read from SysFS had negative value (-1), but there must be at least one NUMA node, so returning NUMA node zero. See more at https://github.com/torvalds/linux/blob/v6.0/Documentation/ABI/testing/sysfs-bus-pci#L344-L355\n",
      "I0000 00:00:1729813741.369447   18013 cuda_executor.cc:1015] successful NUMA node read from SysFS had negative value (-1), but there must be at least one NUMA node, so returning NUMA node zero. See more at https://github.com/torvalds/linux/blob/v6.0/Documentation/ABI/testing/sysfs-bus-pci#L344-L355\n",
      "I0000 00:00:1729813741.375484   18013 cuda_executor.cc:1015] successful NUMA node read from SysFS had negative value (-1), but there must be at least one NUMA node, so returning NUMA node zero. See more at https://github.com/torvalds/linux/blob/v6.0/Documentation/ABI/testing/sysfs-bus-pci#L344-L355\n",
      "I0000 00:00:1729813741.375617   18013 cuda_executor.cc:1015] successful NUMA node read from SysFS had negative value (-1), but there must be at least one NUMA node, so returning NUMA node zero. See more at https://github.com/torvalds/linux/blob/v6.0/Documentation/ABI/testing/sysfs-bus-pci#L344-L355\n",
      "I0000 00:00:1729813741.375726   18013 cuda_executor.cc:1015] successful NUMA node read from SysFS had negative value (-1), but there must be at least one NUMA node, so returning NUMA node zero. See more at https://github.com/torvalds/linux/blob/v6.0/Documentation/ABI/testing/sysfs-bus-pci#L344-L355\n",
      "I0000 00:00:1729813741.375830   18013 cuda_executor.cc:1015] successful NUMA node read from SysFS had negative value (-1), but there must be at least one NUMA node, so returning NUMA node zero. See more at https://github.com/torvalds/linux/blob/v6.0/Documentation/ABI/testing/sysfs-bus-pci#L344-L355\n",
      "I0000 00:00:1729813741.375947   18013 cuda_executor.cc:1015] successful NUMA node read from SysFS had negative value (-1), but there must be at least one NUMA node, so returning NUMA node zero. See more at https://github.com/torvalds/linux/blob/v6.0/Documentation/ABI/testing/sysfs-bus-pci#L344-L355\n",
      "2024-10-24 19:49:01.376055: I tensorflow/core/common_runtime/gpu/gpu_device.cc:2021] Created device /device:GPU:0 with 21852 MB memory:  -> device: 0, name: NVIDIA GeForce RTX 4090, pci bus id: 0000:41:00.0, compute capability: 8.9\n",
      "I0000 00:00:1729813741.376329   18013 cuda_executor.cc:1015] successful NUMA node read from SysFS had negative value (-1), but there must be at least one NUMA node, so returning NUMA node zero. See more at https://github.com/torvalds/linux/blob/v6.0/Documentation/ABI/testing/sysfs-bus-pci#L344-L355\n",
      "2024-10-24 19:49:01.376434: I tensorflow/core/common_runtime/gpu/gpu_device.cc:2021] Created device /device:GPU:1 with 22272 MB memory:  -> device: 1, name: NVIDIA GeForce RTX 4090, pci bus id: 0000:82:00.0, compute capability: 8.9\n"
     ]
    }
   ],
   "source": [
    "from tensorflow.python.client import device_lib\n",
    "print(device_lib.list_local_devices())"
   ]
  },
  {
   "cell_type": "code",
   "execution_count": 5,
   "metadata": {},
   "outputs": [
    {
     "name": "stdout",
     "output_type": "stream",
     "text": [
      "(8, 6, 1)\n"
     ]
    }
   ],
   "source": [
    "from tensorflow.python.compiler.tensorrt import trt_convert as trt\n",
    "print(trt.trt_utils._pywrap_py_utils.get_linked_tensorrt_version())"
   ]
  },
  {
   "cell_type": "markdown",
   "metadata": {},
   "source": [
    "### Benchmarking"
   ]
  },
  {
   "cell_type": "code",
   "execution_count": 8,
   "metadata": {},
   "outputs": [
    {
     "ename": "FileNotFoundError",
     "evalue": "[Errno 2] Unable to synchronously open file (unable to open file: name = '../best_model/mobilenetv2_best_f1score_fold_1.h5', errno = 2, error message = 'No such file or directory', flags = 0, o_flags = 0)",
     "output_type": "error",
     "traceback": [
      "\u001b[0;31m---------------------------------------------------------------------------\u001b[0m",
      "\u001b[0;31mFileNotFoundError\u001b[0m                         Traceback (most recent call last)",
      "Cell \u001b[0;32mIn[8], line 2\u001b[0m\n\u001b[1;32m      1\u001b[0m \u001b[38;5;66;03m# load model\u001b[39;00m\n\u001b[0;32m----> 2\u001b[0m model \u001b[38;5;241m=\u001b[39m \u001b[43mtf\u001b[49m\u001b[38;5;241;43m.\u001b[39;49m\u001b[43mkeras\u001b[49m\u001b[38;5;241;43m.\u001b[39;49m\u001b[43mmodels\u001b[49m\u001b[38;5;241;43m.\u001b[39;49m\u001b[43mload_model\u001b[49m\u001b[43m(\u001b[49m\u001b[38;5;124;43m\"\u001b[39;49m\u001b[38;5;124;43m../best_model/mobilenetv2_best_f1score_fold_1.h5\u001b[39;49m\u001b[38;5;124;43m\"\u001b[39;49m\u001b[43m)\u001b[49m\n",
      "File \u001b[0;32m~/anaconda3/envs/capstone/lib/python3.12/site-packages/keras/src/saving/saving_api.py:196\u001b[0m, in \u001b[0;36mload_model\u001b[0;34m(filepath, custom_objects, compile, safe_mode)\u001b[0m\n\u001b[1;32m    189\u001b[0m     \u001b[38;5;28;01mreturn\u001b[39;00m saving_lib\u001b[38;5;241m.\u001b[39mload_model(\n\u001b[1;32m    190\u001b[0m         filepath,\n\u001b[1;32m    191\u001b[0m         custom_objects\u001b[38;5;241m=\u001b[39mcustom_objects,\n\u001b[1;32m    192\u001b[0m         \u001b[38;5;28mcompile\u001b[39m\u001b[38;5;241m=\u001b[39m\u001b[38;5;28mcompile\u001b[39m,\n\u001b[1;32m    193\u001b[0m         safe_mode\u001b[38;5;241m=\u001b[39msafe_mode,\n\u001b[1;32m    194\u001b[0m     )\n\u001b[1;32m    195\u001b[0m \u001b[38;5;28;01mif\u001b[39;00m \u001b[38;5;28mstr\u001b[39m(filepath)\u001b[38;5;241m.\u001b[39mendswith((\u001b[38;5;124m\"\u001b[39m\u001b[38;5;124m.h5\u001b[39m\u001b[38;5;124m\"\u001b[39m, \u001b[38;5;124m\"\u001b[39m\u001b[38;5;124m.hdf5\u001b[39m\u001b[38;5;124m\"\u001b[39m)):\n\u001b[0;32m--> 196\u001b[0m     \u001b[38;5;28;01mreturn\u001b[39;00m \u001b[43mlegacy_h5_format\u001b[49m\u001b[38;5;241;43m.\u001b[39;49m\u001b[43mload_model_from_hdf5\u001b[49m\u001b[43m(\u001b[49m\n\u001b[1;32m    197\u001b[0m \u001b[43m        \u001b[49m\u001b[43mfilepath\u001b[49m\u001b[43m,\u001b[49m\u001b[43m \u001b[49m\u001b[43mcustom_objects\u001b[49m\u001b[38;5;241;43m=\u001b[39;49m\u001b[43mcustom_objects\u001b[49m\u001b[43m,\u001b[49m\u001b[43m \u001b[49m\u001b[38;5;28;43mcompile\u001b[39;49m\u001b[38;5;241;43m=\u001b[39;49m\u001b[38;5;28;43mcompile\u001b[39;49m\n\u001b[1;32m    198\u001b[0m \u001b[43m    \u001b[49m\u001b[43m)\u001b[49m\n\u001b[1;32m    199\u001b[0m \u001b[38;5;28;01melif\u001b[39;00m \u001b[38;5;28mstr\u001b[39m(filepath)\u001b[38;5;241m.\u001b[39mendswith(\u001b[38;5;124m\"\u001b[39m\u001b[38;5;124m.keras\u001b[39m\u001b[38;5;124m\"\u001b[39m):\n\u001b[1;32m    200\u001b[0m     \u001b[38;5;28;01mraise\u001b[39;00m \u001b[38;5;167;01mValueError\u001b[39;00m(\n\u001b[1;32m    201\u001b[0m         \u001b[38;5;124mf\u001b[39m\u001b[38;5;124m\"\u001b[39m\u001b[38;5;124mFile not found: filepath=\u001b[39m\u001b[38;5;132;01m{\u001b[39;00mfilepath\u001b[38;5;132;01m}\u001b[39;00m\u001b[38;5;124m. \u001b[39m\u001b[38;5;124m\"\u001b[39m\n\u001b[1;32m    202\u001b[0m         \u001b[38;5;124m\"\u001b[39m\u001b[38;5;124mPlease ensure the file is an accessible `.keras` \u001b[39m\u001b[38;5;124m\"\u001b[39m\n\u001b[1;32m    203\u001b[0m         \u001b[38;5;124m\"\u001b[39m\u001b[38;5;124mzip file.\u001b[39m\u001b[38;5;124m\"\u001b[39m\n\u001b[1;32m    204\u001b[0m     )\n",
      "File \u001b[0;32m~/anaconda3/envs/capstone/lib/python3.12/site-packages/keras/src/legacy/saving/legacy_h5_format.py:116\u001b[0m, in \u001b[0;36mload_model_from_hdf5\u001b[0;34m(filepath, custom_objects, compile)\u001b[0m\n\u001b[1;32m    114\u001b[0m opened_new_file \u001b[38;5;241m=\u001b[39m \u001b[38;5;129;01mnot\u001b[39;00m \u001b[38;5;28misinstance\u001b[39m(filepath, h5py\u001b[38;5;241m.\u001b[39mFile)\n\u001b[1;32m    115\u001b[0m \u001b[38;5;28;01mif\u001b[39;00m opened_new_file:\n\u001b[0;32m--> 116\u001b[0m     f \u001b[38;5;241m=\u001b[39m \u001b[43mh5py\u001b[49m\u001b[38;5;241;43m.\u001b[39;49m\u001b[43mFile\u001b[49m\u001b[43m(\u001b[49m\u001b[43mfilepath\u001b[49m\u001b[43m,\u001b[49m\u001b[43m \u001b[49m\u001b[43mmode\u001b[49m\u001b[38;5;241;43m=\u001b[39;49m\u001b[38;5;124;43m\"\u001b[39;49m\u001b[38;5;124;43mr\u001b[39;49m\u001b[38;5;124;43m\"\u001b[39;49m\u001b[43m)\u001b[49m\n\u001b[1;32m    117\u001b[0m \u001b[38;5;28;01melse\u001b[39;00m:\n\u001b[1;32m    118\u001b[0m     f \u001b[38;5;241m=\u001b[39m filepath\n",
      "File \u001b[0;32m~/anaconda3/envs/capstone/lib/python3.12/site-packages/h5py/_hl/files.py:561\u001b[0m, in \u001b[0;36mFile.__init__\u001b[0;34m(self, name, mode, driver, libver, userblock_size, swmr, rdcc_nslots, rdcc_nbytes, rdcc_w0, track_order, fs_strategy, fs_persist, fs_threshold, fs_page_size, page_buf_size, min_meta_keep, min_raw_keep, locking, alignment_threshold, alignment_interval, meta_block_size, **kwds)\u001b[0m\n\u001b[1;32m    552\u001b[0m     fapl \u001b[38;5;241m=\u001b[39m make_fapl(driver, libver, rdcc_nslots, rdcc_nbytes, rdcc_w0,\n\u001b[1;32m    553\u001b[0m                      locking, page_buf_size, min_meta_keep, min_raw_keep,\n\u001b[1;32m    554\u001b[0m                      alignment_threshold\u001b[38;5;241m=\u001b[39malignment_threshold,\n\u001b[1;32m    555\u001b[0m                      alignment_interval\u001b[38;5;241m=\u001b[39malignment_interval,\n\u001b[1;32m    556\u001b[0m                      meta_block_size\u001b[38;5;241m=\u001b[39mmeta_block_size,\n\u001b[1;32m    557\u001b[0m                      \u001b[38;5;241m*\u001b[39m\u001b[38;5;241m*\u001b[39mkwds)\n\u001b[1;32m    558\u001b[0m     fcpl \u001b[38;5;241m=\u001b[39m make_fcpl(track_order\u001b[38;5;241m=\u001b[39mtrack_order, fs_strategy\u001b[38;5;241m=\u001b[39mfs_strategy,\n\u001b[1;32m    559\u001b[0m                      fs_persist\u001b[38;5;241m=\u001b[39mfs_persist, fs_threshold\u001b[38;5;241m=\u001b[39mfs_threshold,\n\u001b[1;32m    560\u001b[0m                      fs_page_size\u001b[38;5;241m=\u001b[39mfs_page_size)\n\u001b[0;32m--> 561\u001b[0m     fid \u001b[38;5;241m=\u001b[39m \u001b[43mmake_fid\u001b[49m\u001b[43m(\u001b[49m\u001b[43mname\u001b[49m\u001b[43m,\u001b[49m\u001b[43m \u001b[49m\u001b[43mmode\u001b[49m\u001b[43m,\u001b[49m\u001b[43m \u001b[49m\u001b[43muserblock_size\u001b[49m\u001b[43m,\u001b[49m\u001b[43m \u001b[49m\u001b[43mfapl\u001b[49m\u001b[43m,\u001b[49m\u001b[43m \u001b[49m\u001b[43mfcpl\u001b[49m\u001b[43m,\u001b[49m\u001b[43m \u001b[49m\u001b[43mswmr\u001b[49m\u001b[38;5;241;43m=\u001b[39;49m\u001b[43mswmr\u001b[49m\u001b[43m)\u001b[49m\n\u001b[1;32m    563\u001b[0m \u001b[38;5;28;01mif\u001b[39;00m \u001b[38;5;28misinstance\u001b[39m(libver, \u001b[38;5;28mtuple\u001b[39m):\n\u001b[1;32m    564\u001b[0m     \u001b[38;5;28mself\u001b[39m\u001b[38;5;241m.\u001b[39m_libver \u001b[38;5;241m=\u001b[39m libver\n",
      "File \u001b[0;32m~/anaconda3/envs/capstone/lib/python3.12/site-packages/h5py/_hl/files.py:235\u001b[0m, in \u001b[0;36mmake_fid\u001b[0;34m(name, mode, userblock_size, fapl, fcpl, swmr)\u001b[0m\n\u001b[1;32m    233\u001b[0m     \u001b[38;5;28;01mif\u001b[39;00m swmr \u001b[38;5;129;01mand\u001b[39;00m swmr_support:\n\u001b[1;32m    234\u001b[0m         flags \u001b[38;5;241m|\u001b[39m\u001b[38;5;241m=\u001b[39m h5f\u001b[38;5;241m.\u001b[39mACC_SWMR_READ\n\u001b[0;32m--> 235\u001b[0m     fid \u001b[38;5;241m=\u001b[39m \u001b[43mh5f\u001b[49m\u001b[38;5;241;43m.\u001b[39;49m\u001b[43mopen\u001b[49m\u001b[43m(\u001b[49m\u001b[43mname\u001b[49m\u001b[43m,\u001b[49m\u001b[43m \u001b[49m\u001b[43mflags\u001b[49m\u001b[43m,\u001b[49m\u001b[43m \u001b[49m\u001b[43mfapl\u001b[49m\u001b[38;5;241;43m=\u001b[39;49m\u001b[43mfapl\u001b[49m\u001b[43m)\u001b[49m\n\u001b[1;32m    236\u001b[0m \u001b[38;5;28;01melif\u001b[39;00m mode \u001b[38;5;241m==\u001b[39m \u001b[38;5;124m'\u001b[39m\u001b[38;5;124mr+\u001b[39m\u001b[38;5;124m'\u001b[39m:\n\u001b[1;32m    237\u001b[0m     fid \u001b[38;5;241m=\u001b[39m h5f\u001b[38;5;241m.\u001b[39mopen(name, h5f\u001b[38;5;241m.\u001b[39mACC_RDWR, fapl\u001b[38;5;241m=\u001b[39mfapl)\n",
      "File \u001b[0;32mh5py/_objects.pyx:54\u001b[0m, in \u001b[0;36mh5py._objects.with_phil.wrapper\u001b[0;34m()\u001b[0m\n",
      "File \u001b[0;32mh5py/_objects.pyx:55\u001b[0m, in \u001b[0;36mh5py._objects.with_phil.wrapper\u001b[0;34m()\u001b[0m\n",
      "File \u001b[0;32mh5py/h5f.pyx:102\u001b[0m, in \u001b[0;36mh5py.h5f.open\u001b[0;34m()\u001b[0m\n",
      "\u001b[0;31mFileNotFoundError\u001b[0m: [Errno 2] Unable to synchronously open file (unable to open file: name = '../best_model/mobilenetv2_best_f1score_fold_1.h5', errno = 2, error message = 'No such file or directory', flags = 0, o_flags = 0)"
     ]
    }
   ],
   "source": [
    "from tensorflow.python.client import device_lib\n",
    "print(device_lib.list_local_devices())"
   ]
  },
  {
   "cell_type": "code",
   "execution_count": 4,
   "metadata": {},
   "outputs": [
    {
     "name": "stdout",
     "output_type": "stream",
     "text": [
      "(10, 5, 0)\n"
     ]
    }
   ],
   "source": [
    "from tensorflow.python.compiler.tensorrt import trt_convert as trt\n",
    "print(trt.trt_utils._pywrap_py_utils.get_linked_tensorrt_version())"
   ]
  },
  {
   "cell_type": "markdown",
   "metadata": {},
   "source": [
    "### Benchmarking"
   ]
  },
  {
   "cell_type": "code",
   "execution_count": 2,
   "metadata": {},
   "outputs": [
    {
     "name": "stdout",
     "output_type": "stream",
     "text": [
      "Found 228 files belonging to 2 classes.\n"
     ]
    },
    {
     "name": "stderr",
     "output_type": "stream",
     "text": [
      "2024-11-12 23:44:19.876237: I external/local_xla/xla/stream_executor/cuda/cuda_executor.cc:998] successful NUMA node read from SysFS had negative value (-1), but there must be at least one NUMA node, so returning NUMA node zero. See more at https://github.com/torvalds/linux/blob/v6.0/Documentation/ABI/testing/sysfs-bus-pci#L344-L355\n",
      "2024-11-12 23:44:19.876630: I external/local_xla/xla/stream_executor/cuda/cuda_executor.cc:998] successful NUMA node read from SysFS had negative value (-1), but there must be at least one NUMA node, so returning NUMA node zero. See more at https://github.com/torvalds/linux/blob/v6.0/Documentation/ABI/testing/sysfs-bus-pci#L344-L355\n",
      "2024-11-12 23:44:20.074795: I external/local_xla/xla/stream_executor/cuda/cuda_executor.cc:998] successful NUMA node read from SysFS had negative value (-1), but there must be at least one NUMA node, so returning NUMA node zero. See more at https://github.com/torvalds/linux/blob/v6.0/Documentation/ABI/testing/sysfs-bus-pci#L344-L355\n",
      "2024-11-12 23:44:20.075069: I external/local_xla/xla/stream_executor/cuda/cuda_executor.cc:998] successful NUMA node read from SysFS had negative value (-1), but there must be at least one NUMA node, so returning NUMA node zero. See more at https://github.com/torvalds/linux/blob/v6.0/Documentation/ABI/testing/sysfs-bus-pci#L344-L355\n",
      "2024-11-12 23:44:20.075249: I external/local_xla/xla/stream_executor/cuda/cuda_executor.cc:998] successful NUMA node read from SysFS had negative value (-1), but there must be at least one NUMA node, so returning NUMA node zero. See more at https://github.com/torvalds/linux/blob/v6.0/Documentation/ABI/testing/sysfs-bus-pci#L344-L355\n",
      "2024-11-12 23:44:20.075582: I external/local_xla/xla/stream_executor/cuda/cuda_executor.cc:998] successful NUMA node read from SysFS had negative value (-1), but there must be at least one NUMA node, so returning NUMA node zero. See more at https://github.com/torvalds/linux/blob/v6.0/Documentation/ABI/testing/sysfs-bus-pci#L344-L355\n",
      "2024-11-12 23:44:20.275973: I external/local_xla/xla/stream_executor/cuda/cuda_executor.cc:998] successful NUMA node read from SysFS had negative value (-1), but there must be at least one NUMA node, so returning NUMA node zero. See more at https://github.com/torvalds/linux/blob/v6.0/Documentation/ABI/testing/sysfs-bus-pci#L344-L355\n",
      "2024-11-12 23:44:20.276270: I external/local_xla/xla/stream_executor/cuda/cuda_executor.cc:998] successful NUMA node read from SysFS had negative value (-1), but there must be at least one NUMA node, so returning NUMA node zero. See more at https://github.com/torvalds/linux/blob/v6.0/Documentation/ABI/testing/sysfs-bus-pci#L344-L355\n",
      "2024-11-12 23:44:20.276456: I external/local_xla/xla/stream_executor/cuda/cuda_executor.cc:998] successful NUMA node read from SysFS had negative value (-1), but there must be at least one NUMA node, so returning NUMA node zero. See more at https://github.com/torvalds/linux/blob/v6.0/Documentation/ABI/testing/sysfs-bus-pci#L344-L355\n",
      "2024-11-12 23:44:20.276600: I external/local_xla/xla/stream_executor/cuda/cuda_executor.cc:998] successful NUMA node read from SysFS had negative value (-1), but there must be at least one NUMA node, so returning NUMA node zero. See more at https://github.com/torvalds/linux/blob/v6.0/Documentation/ABI/testing/sysfs-bus-pci#L344-L355\n",
      "2024-11-12 23:44:20.276748: I external/local_xla/xla/stream_executor/cuda/cuda_executor.cc:998] successful NUMA node read from SysFS had negative value (-1), but there must be at least one NUMA node, so returning NUMA node zero. See more at https://github.com/torvalds/linux/blob/v6.0/Documentation/ABI/testing/sysfs-bus-pci#L344-L355\n",
      "2024-11-12 23:44:20.276964: I external/local_xla/xla/stream_executor/cuda/cuda_executor.cc:998] successful NUMA node read from SysFS had negative value (-1), but there must be at least one NUMA node, so returning NUMA node zero. See more at https://github.com/torvalds/linux/blob/v6.0/Documentation/ABI/testing/sysfs-bus-pci#L344-L355\n",
      "2024-11-12 23:44:20.290076: I external/local_xla/xla/stream_executor/cuda/cuda_executor.cc:998] successful NUMA node read from SysFS had negative value (-1), but there must be at least one NUMA node, so returning NUMA node zero. See more at https://github.com/torvalds/linux/blob/v6.0/Documentation/ABI/testing/sysfs-bus-pci#L344-L355\n",
      "2024-11-12 23:44:20.290264: I external/local_xla/xla/stream_executor/cuda/cuda_executor.cc:998] successful NUMA node read from SysFS had negative value (-1), but there must be at least one NUMA node, so returning NUMA node zero. See more at https://github.com/torvalds/linux/blob/v6.0/Documentation/ABI/testing/sysfs-bus-pci#L344-L355\n",
      "2024-11-12 23:44:20.290447: I external/local_xla/xla/stream_executor/cuda/cuda_executor.cc:998] successful NUMA node read from SysFS had negative value (-1), but there must be at least one NUMA node, so returning NUMA node zero. See more at https://github.com/torvalds/linux/blob/v6.0/Documentation/ABI/testing/sysfs-bus-pci#L344-L355\n",
      "2024-11-12 23:44:20.290584: I external/local_xla/xla/stream_executor/cuda/cuda_executor.cc:998] successful NUMA node read from SysFS had negative value (-1), but there must be at least one NUMA node, so returning NUMA node zero. See more at https://github.com/torvalds/linux/blob/v6.0/Documentation/ABI/testing/sysfs-bus-pci#L344-L355\n",
      "2024-11-12 23:44:20.290739: I external/local_xla/xla/stream_executor/cuda/cuda_executor.cc:998] successful NUMA node read from SysFS had negative value (-1), but there must be at least one NUMA node, so returning NUMA node zero. See more at https://github.com/torvalds/linux/blob/v6.0/Documentation/ABI/testing/sysfs-bus-pci#L344-L355\n",
      "2024-11-12 23:44:20.291150: I tensorflow/core/common_runtime/gpu/gpu_device.cc:1928] Created device /job:localhost/replica:0/task:0/device:GPU:0 with 10911 MB memory:  -> device: 0, name: NVIDIA GeForce RTX 4090, pci bus id: 0000:41:00.0, compute capability: 8.9\n",
      "2024-11-12 23:44:20.292051: I external/local_xla/xla/stream_executor/cuda/cuda_executor.cc:998] successful NUMA node read from SysFS had negative value (-1), but there must be at least one NUMA node, so returning NUMA node zero. See more at https://github.com/torvalds/linux/blob/v6.0/Documentation/ABI/testing/sysfs-bus-pci#L344-L355\n",
      "2024-11-12 23:44:20.292196: I tensorflow/core/common_runtime/gpu/gpu_device.cc:1928] Created device /job:localhost/replica:0/task:0/device:GPU:1 with 22008 MB memory:  -> device: 1, name: NVIDIA GeForce RTX 4090, pci bus id: 0000:82:00.0, compute capability: 8.9\n"
     ]
    }
   ],
   "source": [
    "data_root = pathlib.Path(\"../data/Monkeypox_Data/Original_Images\")    # points to the folder containing the images that will be used for training\n",
    "\n",
    "# hyperparameters\n",
    "batch_size = 32         # size of the batch that will be fed to model\n",
    "img_height = 224        # input image height\n",
    "img_width = 224         # input image width\n",
    "test_size = 0.2\n",
    "\n",
    "# Load dataset without splitting\n",
    "dataset = tf.keras.utils.image_dataset_from_directory(\n",
    "    data_root,                                  # loads images from the data_root directory\n",
    "    image_size=(img_height, img_width),         # resizes all images to (224, 224) pixels\n",
    "    batch_size=batch_size,                      # set the batch size\n",
    "    shuffle=True                                # shufle data when loaded\n",
    ")\n",
    "\n",
    "# normalization_layer = layers.Rescaling(1./255)\n",
    "# dataset = dataset.map(lambda x, y: (normalization_layer(x), y))"
   ]
  },
  {
   "cell_type": "markdown",
   "metadata": {},
   "source": [
    "### TensorRT Optimization FP16"
   ]
  },
  {
   "cell_type": "code",
   "execution_count": null,
   "metadata": {},
   "outputs": [
    {
     "name": "stdout",
     "output_type": "stream",
     "text": [
      "INFO:tensorflow:Linked TensorRT version: (10, 5, 0)\n"
     ]
    },
    {
     "name": "stderr",
     "output_type": "stream",
     "text": [
      "INFO:tensorflow:Linked TensorRT version: (10, 5, 0)\n"
     ]
    },
    {
     "name": "stdout",
     "output_type": "stream",
     "text": [
      "INFO:tensorflow:Loaded TensorRT version: (10, 5, 0)\n"
     ]
    },
    {
     "name": "stderr",
     "output_type": "stream",
     "text": [
      "INFO:tensorflow:Loaded TensorRT version: (10, 5, 0)\n",
      "2024-11-13 00:19:39.324218: I external/local_xla/xla/stream_executor/cuda/cuda_executor.cc:998] successful NUMA node read from SysFS had negative value (-1), but there must be at least one NUMA node, so returning NUMA node zero. See more at https://github.com/torvalds/linux/blob/v6.0/Documentation/ABI/testing/sysfs-bus-pci#L344-L355\n",
      "2024-11-13 00:19:39.324439: I external/local_xla/xla/stream_executor/cuda/cuda_executor.cc:998] successful NUMA node read from SysFS had negative value (-1), but there must be at least one NUMA node, so returning NUMA node zero. See more at https://github.com/torvalds/linux/blob/v6.0/Documentation/ABI/testing/sysfs-bus-pci#L344-L355\n",
      "2024-11-13 00:19:39.324540: I tensorflow/core/grappler/devices.cc:66] Number of eligible GPUs (core count >= 8, compute capability >= 0.0): 2\n",
      "2024-11-13 00:19:39.324996: I tensorflow/core/grappler/clusters/single_machine.cc:361] Starting new session\n",
      "2024-11-13 00:19:39.326599: I external/local_xla/xla/stream_executor/cuda/cuda_executor.cc:998] successful NUMA node read from SysFS had negative value (-1), but there must be at least one NUMA node, so returning NUMA node zero. See more at https://github.com/torvalds/linux/blob/v6.0/Documentation/ABI/testing/sysfs-bus-pci#L344-L355\n",
      "2024-11-13 00:19:39.326734: I external/local_xla/xla/stream_executor/cuda/cuda_executor.cc:998] successful NUMA node read from SysFS had negative value (-1), but there must be at least one NUMA node, so returning NUMA node zero. See more at https://github.com/torvalds/linux/blob/v6.0/Documentation/ABI/testing/sysfs-bus-pci#L344-L355\n",
      "2024-11-13 00:19:39.326854: I external/local_xla/xla/stream_executor/cuda/cuda_executor.cc:998] successful NUMA node read from SysFS had negative value (-1), but there must be at least one NUMA node, so returning NUMA node zero. See more at https://github.com/torvalds/linux/blob/v6.0/Documentation/ABI/testing/sysfs-bus-pci#L344-L355\n",
      "2024-11-13 00:19:39.326970: I external/local_xla/xla/stream_executor/cuda/cuda_executor.cc:998] successful NUMA node read from SysFS had negative value (-1), but there must be at least one NUMA node, so returning NUMA node zero. See more at https://github.com/torvalds/linux/blob/v6.0/Documentation/ABI/testing/sysfs-bus-pci#L344-L355\n",
      "2024-11-13 00:19:39.327089: I external/local_xla/xla/stream_executor/cuda/cuda_executor.cc:998] successful NUMA node read from SysFS had negative value (-1), but there must be at least one NUMA node, so returning NUMA node zero. See more at https://github.com/torvalds/linux/blob/v6.0/Documentation/ABI/testing/sysfs-bus-pci#L344-L355\n",
      "2024-11-13 00:19:39.327358: I external/local_xla/xla/stream_executor/cuda/cuda_executor.cc:998] successful NUMA node read from SysFS had negative value (-1), but there must be at least one NUMA node, so returning NUMA node zero. See more at https://github.com/torvalds/linux/blob/v6.0/Documentation/ABI/testing/sysfs-bus-pci#L344-L355\n",
      "2024-11-13 00:19:39.327725: I external/local_xla/xla/stream_executor/cuda/cuda_executor.cc:998] successful NUMA node read from SysFS had negative value (-1), but there must be at least one NUMA node, so returning NUMA node zero. See more at https://github.com/torvalds/linux/blob/v6.0/Documentation/ABI/testing/sysfs-bus-pci#L344-L355\n",
      "2024-11-13 00:19:39.327913: I external/local_xla/xla/stream_executor/cuda/cuda_executor.cc:998] successful NUMA node read from SysFS had negative value (-1), but there must be at least one NUMA node, so returning NUMA node zero. See more at https://github.com/torvalds/linux/blob/v6.0/Documentation/ABI/testing/sysfs-bus-pci#L344-L355\n",
      "2024-11-13 00:19:39.328024: I external/local_xla/xla/stream_executor/cuda/cuda_executor.cc:998] successful NUMA node read from SysFS had negative value (-1), but there must be at least one NUMA node, so returning NUMA node zero. See more at https://github.com/torvalds/linux/blob/v6.0/Documentation/ABI/testing/sysfs-bus-pci#L344-L355\n",
      "2024-11-13 00:19:39.328306: I tensorflow/core/common_runtime/gpu/gpu_device.cc:1928] Created device /job:localhost/replica:0/task:0/device:GPU:0 with 10911 MB memory:  -> device: 0, name: NVIDIA GeForce RTX 4090, pci bus id: 0000:41:00.0, compute capability: 8.9\n",
      "2024-11-13 00:19:39.328339: I external/local_xla/xla/stream_executor/cuda/cuda_executor.cc:998] successful NUMA node read from SysFS had negative value (-1), but there must be at least one NUMA node, so returning NUMA node zero. See more at https://github.com/torvalds/linux/blob/v6.0/Documentation/ABI/testing/sysfs-bus-pci#L344-L355\n",
      "2024-11-13 00:19:39.328448: I tensorflow/core/common_runtime/gpu/gpu_device.cc:1928] Created device /job:localhost/replica:0/task:0/device:GPU:1 with 22008 MB memory:  -> device: 1, name: NVIDIA GeForce RTX 4090, pci bus id: 0000:82:00.0, compute capability: 8.9\n"
     ]
    },
    {
     "name": "stdout",
     "output_type": "stream",
     "text": [
      "INFO:tensorflow:Clearing prior device assignments in loaded saved model\n"
     ]
    },
    {
     "name": "stderr",
     "output_type": "stream",
     "text": [
      "INFO:tensorflow:Clearing prior device assignments in loaded saved model\n"
     ]
    },
    {
     "name": "stdout",
     "output_type": "stream",
     "text": [
      "INFO:tensorflow:Automatic mixed precision will be used on the whole TensorFlow Graph. This behavior can be deactivated using the environment variable: TF_TRT_EXPERIMENTAL_FEATURES=deactivate_mixed_precision.\n",
      "More information can be found on: https://www.tensorflow.org/guide/mixed_precision.\n"
     ]
    },
    {
     "name": "stderr",
     "output_type": "stream",
     "text": [
      "INFO:tensorflow:Automatic mixed precision will be used on the whole TensorFlow Graph. This behavior can be deactivated using the environment variable: TF_TRT_EXPERIMENTAL_FEATURES=deactivate_mixed_precision.\n",
      "More information can be found on: https://www.tensorflow.org/guide/mixed_precision.\n",
      "2024-11-13 00:19:40.876530: I external/local_xla/xla/stream_executor/cuda/cuda_executor.cc:998] successful NUMA node read from SysFS had negative value (-1), but there must be at least one NUMA node, so returning NUMA node zero. See more at https://github.com/torvalds/linux/blob/v6.0/Documentation/ABI/testing/sysfs-bus-pci#L344-L355\n",
      "2024-11-13 00:19:40.876740: I external/local_xla/xla/stream_executor/cuda/cuda_executor.cc:998] successful NUMA node read from SysFS had negative value (-1), but there must be at least one NUMA node, so returning NUMA node zero. See more at https://github.com/torvalds/linux/blob/v6.0/Documentation/ABI/testing/sysfs-bus-pci#L344-L355\n",
      "2024-11-13 00:19:40.876848: I tensorflow/core/grappler/devices.cc:66] Number of eligible GPUs (core count >= 8, compute capability >= 0.0): 2\n",
      "2024-11-13 00:19:40.876957: I tensorflow/core/grappler/clusters/single_machine.cc:361] Starting new session\n",
      "2024-11-13 00:19:40.877262: I external/local_xla/xla/stream_executor/cuda/cuda_executor.cc:998] successful NUMA node read from SysFS had negative value (-1), but there must be at least one NUMA node, so returning NUMA node zero. See more at https://github.com/torvalds/linux/blob/v6.0/Documentation/ABI/testing/sysfs-bus-pci#L344-L355\n",
      "2024-11-13 00:19:40.877394: I external/local_xla/xla/stream_executor/cuda/cuda_executor.cc:998] successful NUMA node read from SysFS had negative value (-1), but there must be at least one NUMA node, so returning NUMA node zero. See more at https://github.com/torvalds/linux/blob/v6.0/Documentation/ABI/testing/sysfs-bus-pci#L344-L355\n",
      "2024-11-13 00:19:40.877514: I external/local_xla/xla/stream_executor/cuda/cuda_executor.cc:998] successful NUMA node read from SysFS had negative value (-1), but there must be at least one NUMA node, so returning NUMA node zero. See more at https://github.com/torvalds/linux/blob/v6.0/Documentation/ABI/testing/sysfs-bus-pci#L344-L355\n",
      "2024-11-13 00:19:40.877629: I external/local_xla/xla/stream_executor/cuda/cuda_executor.cc:998] successful NUMA node read from SysFS had negative value (-1), but there must be at least one NUMA node, so returning NUMA node zero. See more at https://github.com/torvalds/linux/blob/v6.0/Documentation/ABI/testing/sysfs-bus-pci#L344-L355\n",
      "2024-11-13 00:19:40.877745: I external/local_xla/xla/stream_executor/cuda/cuda_executor.cc:998] successful NUMA node read from SysFS had negative value (-1), but there must be at least one NUMA node, so returning NUMA node zero. See more at https://github.com/torvalds/linux/blob/v6.0/Documentation/ABI/testing/sysfs-bus-pci#L344-L355\n",
      "2024-11-13 00:19:40.877922: I external/local_xla/xla/stream_executor/cuda/cuda_executor.cc:998] successful NUMA node read from SysFS had negative value (-1), but there must be at least one NUMA node, so returning NUMA node zero. See more at https://github.com/torvalds/linux/blob/v6.0/Documentation/ABI/testing/sysfs-bus-pci#L344-L355\n",
      "2024-11-13 00:19:40.878105: I external/local_xla/xla/stream_executor/cuda/cuda_executor.cc:998] successful NUMA node read from SysFS had negative value (-1), but there must be at least one NUMA node, so returning NUMA node zero. See more at https://github.com/torvalds/linux/blob/v6.0/Documentation/ABI/testing/sysfs-bus-pci#L344-L355\n",
      "2024-11-13 00:19:40.878223: I external/local_xla/xla/stream_executor/cuda/cuda_executor.cc:998] successful NUMA node read from SysFS had negative value (-1), but there must be at least one NUMA node, so returning NUMA node zero. See more at https://github.com/torvalds/linux/blob/v6.0/Documentation/ABI/testing/sysfs-bus-pci#L344-L355\n",
      "2024-11-13 00:19:40.878358: I external/local_xla/xla/stream_executor/cuda/cuda_executor.cc:998] successful NUMA node read from SysFS had negative value (-1), but there must be at least one NUMA node, so returning NUMA node zero. See more at https://github.com/torvalds/linux/blob/v6.0/Documentation/ABI/testing/sysfs-bus-pci#L344-L355\n",
      "2024-11-13 00:19:40.878468: I tensorflow/core/common_runtime/gpu/gpu_device.cc:1928] Created device /job:localhost/replica:0/task:0/device:GPU:0 with 10911 MB memory:  -> device: 0, name: NVIDIA GeForce RTX 4090, pci bus id: 0000:41:00.0, compute capability: 8.9\n",
      "2024-11-13 00:19:40.878495: I external/local_xla/xla/stream_executor/cuda/cuda_executor.cc:998] successful NUMA node read from SysFS had negative value (-1), but there must be at least one NUMA node, so returning NUMA node zero. See more at https://github.com/torvalds/linux/blob/v6.0/Documentation/ABI/testing/sysfs-bus-pci#L344-L355\n",
      "2024-11-13 00:19:40.878603: I tensorflow/core/common_runtime/gpu/gpu_device.cc:1928] Created device /job:localhost/replica:0/task:0/device:GPU:1 with 22008 MB memory:  -> device: 1, name: NVIDIA GeForce RTX 4090, pci bus id: 0000:82:00.0, compute capability: 8.9\n",
      "2024-11-13 00:19:40.908380: I tensorflow/core/grappler/optimizers/auto_mixed_precision.cc:2373] Running auto_mixed_precision graph optimizer\n",
      "2024-11-13 00:19:40.911223: I tensorflow/core/grappler/optimizers/auto_mixed_precision.cc:1209] Automatic Mixed Precision Grappler Pass Summary:\n",
      "\n",
      "Total processable nodes: 1055\n",
      "Recognized nodes available for conversion: 684\n",
      "Total nodes converted: 256\n",
      "Total FP16 Cast ops used (excluding Const and Variable casts): 104\n",
      "Allowlisted nodes converted: 53\n",
      "Denylisted nodes blocking conversion: 2\n",
      "Nodes blocked from conversion by denylisted nodes: 0\n",
      "\n",
      "For more information regarding mixed precision training, including how to make automatic mixed precision aware of a custom op type, please see the documentation available here:\n",
      "https://docs.nvidia.com/deeplearning/frameworks/tensorflow-user-guide/index.html#tfamp\n",
      "\n",
      "\n",
      "2024-11-13 00:19:40.968538: W tensorflow/compiler/tf2tensorrt/convert/trt_optimization_pass.cc:204] Calibration with FP32 or FP16 is not implemented. Falling back to use_calibration = False.Note that the default value of use_calibration is True.\n",
      "2024-11-13 00:19:40.978253: W tensorflow/compiler/tf2tensorrt/segment/segment.cc:970] \n",
      "\n",
      "################################################################################\n",
      "TensorRT unsupported/non-converted OP Report:\n",
      "\t- NoOp -> 2x\n",
      "\t- Identity -> 1x\n",
      "\t- Placeholder -> 1x\n",
      "--------------------------------------------------------------------------------\n",
      "\t- Total nonconverted OPs: 4\n",
      "\t- Total nonconverted OP Types: 3\n",
      "For more information see https://docs.nvidia.com/deeplearning/frameworks/tf-trt-user-guide/index.html#supported-ops.\n",
      "################################################################################\n",
      "\n",
      "2024-11-13 00:19:40.980996: W tensorflow/compiler/tf2tensorrt/segment/segment.cc:1298] The environment variable TF_TRT_MAX_ALLOWED_ENGINES=20 has no effect since there are only 1 TRT Engines with  at least minimum_segment_size=3 nodes.\n",
      "2024-11-13 00:19:40.981748: I tensorflow/compiler/tf2tensorrt/convert/convert_graph.cc:805] Number of TensorRT candidate segments: 1\n",
      "2024-11-13 00:19:40.985086: I tensorflow/compiler/tf2tensorrt/convert/convert_graph.cc:919] Replaced segment 0 consisting of 304 nodes by TRTEngineOp_002_000.\n",
      "2024-11-13 00:19:40.993556: I tensorflow/core/grappler/optimizers/auto_mixed_precision.cc:1209] Automatic Mixed Precision Grappler Pass Summary:\n",
      "\n",
      "Total processable nodes: 313\n",
      "Recognized nodes available for conversion: 179\n",
      "Total nodes converted: 0\n",
      "Total FP16 Cast ops used (excluding Const and Variable casts): 0\n",
      "Allowlisted nodes converted: 53\n",
      "Denylisted nodes blocking conversion: 2\n",
      "Nodes blocked from conversion by denylisted nodes: 0\n",
      "\n",
      "For more information regarding mixed precision training, including how to make automatic mixed precision aware of a custom op type, please see the documentation available here:\n",
      "https://docs.nvidia.com/deeplearning/frameworks/tensorflow-user-guide/index.html#tfamp\n",
      "\n",
      "\n"
     ]
    },
    {
     "name": "stdout",
     "output_type": "stream",
     "text": [
      "TRTEngineOP Name                 Device        # Nodes # Inputs      # Outputs     Input DTypes       Output Dtypes      Input Shapes       Output Shapes     \n",
      "================================================================================================================================================================\n",
      "TRTEngineOp_002_000              device:GPU:0  304     1             1             ['float32']        ['float32']        [[-1, 224, 224 ... [[-1, 1]]         \n",
      "\n",
      "\t- AddV2: 63x\n",
      "\t- Cast: 4x\n",
      "\t- Const: 126x\n",
      "\t- Conv2D: 35x\n",
      "\t- DepthwiseConv2dNative: 17x\n",
      "\t- MatMul: 1x\n",
      "\t- Mean: 1x\n",
      "\t- Mul: 18x\n",
      "\t- Pad: 4x\n",
      "\t- Relu6: 35x\n",
      "\n",
      "================================================================================================================================================================\n",
      "[*] Total number of TensorRT engines: 1\n",
      "[*] % of OPs Converted: 99.35% [304/306]\n",
      "\n"
     ]
    }
   ],
   "source": [
    "params = tf.experimental.tensorrt.ConversionParams(\n",
    "    precision_mode='FP16'\n",
    ")\n",
    "converter = tf.experimental.tensorrt.Converter(\n",
    "    input_saved_model_dir='../best_model/model1/best_f1score_fold', conversion_params=params\n",
    ")\n",
    "\n",
    "model = converter.convert()\n",
    "# converter.summary()"
   ]
  },
  {
   "cell_type": "code",
   "execution_count": 4,
   "metadata": {},
   "outputs": [
    {
     "name": "stdout",
     "output_type": "stream",
     "text": [
      "INFO:tensorflow:Linked TensorRT version: (10, 5, 0)\n"
     ]
    },
    {
     "name": "stderr",
     "output_type": "stream",
     "text": [
      "INFO:tensorflow:Linked TensorRT version: (10, 5, 0)\n"
     ]
    },
    {
     "name": "stdout",
     "output_type": "stream",
     "text": [
      "INFO:tensorflow:Loaded TensorRT version: (10, 5, 0)\n"
     ]
    },
    {
     "name": "stderr",
     "output_type": "stream",
     "text": [
      "INFO:tensorflow:Loaded TensorRT version: (10, 5, 0)\n",
      "2024-11-13 00:02:07.539197: I external/local_xla/xla/stream_executor/cuda/cuda_executor.cc:998] successful NUMA node read from SysFS had negative value (-1), but there must be at least one NUMA node, so returning NUMA node zero. See more at https://github.com/torvalds/linux/blob/v6.0/Documentation/ABI/testing/sysfs-bus-pci#L344-L355\n",
      "2024-11-13 00:02:07.539553: I external/local_xla/xla/stream_executor/cuda/cuda_executor.cc:998] successful NUMA node read from SysFS had negative value (-1), but there must be at least one NUMA node, so returning NUMA node zero. See more at https://github.com/torvalds/linux/blob/v6.0/Documentation/ABI/testing/sysfs-bus-pci#L344-L355\n",
      "2024-11-13 00:02:07.539691: I tensorflow/core/grappler/devices.cc:66] Number of eligible GPUs (core count >= 8, compute capability >= 0.0): 2\n",
      "2024-11-13 00:02:07.539821: I tensorflow/core/grappler/clusters/single_machine.cc:361] Starting new session\n",
      "2024-11-13 00:02:07.540618: I external/local_xla/xla/stream_executor/cuda/cuda_executor.cc:998] successful NUMA node read from SysFS had negative value (-1), but there must be at least one NUMA node, so returning NUMA node zero. See more at https://github.com/torvalds/linux/blob/v6.0/Documentation/ABI/testing/sysfs-bus-pci#L344-L355\n",
      "2024-11-13 00:02:07.540898: I external/local_xla/xla/stream_executor/cuda/cuda_executor.cc:998] successful NUMA node read from SysFS had negative value (-1), but there must be at least one NUMA node, so returning NUMA node zero. See more at https://github.com/torvalds/linux/blob/v6.0/Documentation/ABI/testing/sysfs-bus-pci#L344-L355\n",
      "2024-11-13 00:02:07.541247: I external/local_xla/xla/stream_executor/cuda/cuda_executor.cc:998] successful NUMA node read from SysFS had negative value (-1), but there must be at least one NUMA node, so returning NUMA node zero. See more at https://github.com/torvalds/linux/blob/v6.0/Documentation/ABI/testing/sysfs-bus-pci#L344-L355\n",
      "2024-11-13 00:02:07.541518: I external/local_xla/xla/stream_executor/cuda/cuda_executor.cc:998] successful NUMA node read from SysFS had negative value (-1), but there must be at least one NUMA node, so returning NUMA node zero. See more at https://github.com/torvalds/linux/blob/v6.0/Documentation/ABI/testing/sysfs-bus-pci#L344-L355\n",
      "2024-11-13 00:02:07.541801: I external/local_xla/xla/stream_executor/cuda/cuda_executor.cc:998] successful NUMA node read from SysFS had negative value (-1), but there must be at least one NUMA node, so returning NUMA node zero. See more at https://github.com/torvalds/linux/blob/v6.0/Documentation/ABI/testing/sysfs-bus-pci#L344-L355\n",
      "2024-11-13 00:02:07.542104: I external/local_xla/xla/stream_executor/cuda/cuda_executor.cc:998] successful NUMA node read from SysFS had negative value (-1), but there must be at least one NUMA node, so returning NUMA node zero. See more at https://github.com/torvalds/linux/blob/v6.0/Documentation/ABI/testing/sysfs-bus-pci#L344-L355\n",
      "2024-11-13 00:02:07.542517: I external/local_xla/xla/stream_executor/cuda/cuda_executor.cc:998] successful NUMA node read from SysFS had negative value (-1), but there must be at least one NUMA node, so returning NUMA node zero. See more at https://github.com/torvalds/linux/blob/v6.0/Documentation/ABI/testing/sysfs-bus-pci#L344-L355\n",
      "2024-11-13 00:02:07.542681: I external/local_xla/xla/stream_executor/cuda/cuda_executor.cc:998] successful NUMA node read from SysFS had negative value (-1), but there must be at least one NUMA node, so returning NUMA node zero. See more at https://github.com/torvalds/linux/blob/v6.0/Documentation/ABI/testing/sysfs-bus-pci#L344-L355\n",
      "2024-11-13 00:02:07.542846: I external/local_xla/xla/stream_executor/cuda/cuda_executor.cc:998] successful NUMA node read from SysFS had negative value (-1), but there must be at least one NUMA node, so returning NUMA node zero. See more at https://github.com/torvalds/linux/blob/v6.0/Documentation/ABI/testing/sysfs-bus-pci#L344-L355\n",
      "2024-11-13 00:02:07.543025: I tensorflow/core/common_runtime/gpu/gpu_device.cc:1928] Created device /job:localhost/replica:0/task:0/device:GPU:0 with 10911 MB memory:  -> device: 0, name: NVIDIA GeForce RTX 4090, pci bus id: 0000:41:00.0, compute capability: 8.9\n",
      "2024-11-13 00:02:07.543088: I external/local_xla/xla/stream_executor/cuda/cuda_executor.cc:998] successful NUMA node read from SysFS had negative value (-1), but there must be at least one NUMA node, so returning NUMA node zero. See more at https://github.com/torvalds/linux/blob/v6.0/Documentation/ABI/testing/sysfs-bus-pci#L344-L355\n",
      "2024-11-13 00:02:07.543266: I tensorflow/core/common_runtime/gpu/gpu_device.cc:1928] Created device /job:localhost/replica:0/task:0/device:GPU:1 with 22008 MB memory:  -> device: 1, name: NVIDIA GeForce RTX 4090, pci bus id: 0000:82:00.0, compute capability: 8.9\n"
     ]
    },
    {
     "name": "stdout",
     "output_type": "stream",
     "text": [
      "INFO:tensorflow:Clearing prior device assignments in loaded saved model\n"
     ]
    },
    {
     "name": "stderr",
     "output_type": "stream",
     "text": [
      "INFO:tensorflow:Clearing prior device assignments in loaded saved model\n"
     ]
    },
    {
     "name": "stdout",
     "output_type": "stream",
     "text": [
      "INFO:tensorflow:Automatic mixed precision will be used on the whole TensorFlow Graph. This behavior can be deactivated using the environment variable: TF_TRT_EXPERIMENTAL_FEATURES=deactivate_mixed_precision.\n",
      "More information can be found on: https://www.tensorflow.org/guide/mixed_precision.\n"
     ]
    },
    {
     "name": "stderr",
     "output_type": "stream",
     "text": [
      "2024-10-24 19:42:51.713773: W tensorflow/compiler/tf2tensorrt/utils/py_utils.cc:38] TF-TRT Warning: Could not find TensorRT\n"
     ]
    },
    {
     "ename": "RuntimeError",
     "evalue": "Tensorflow has not been built with TensorRT support.",
     "output_type": "error",
     "traceback": [
      "\u001b[0;31m---------------------------------------------------------------------------\u001b[0m",
      "\u001b[0;31mRuntimeError\u001b[0m                              Traceback (most recent call last)",
      "Cell \u001b[0;32mIn[4], line 6\u001b[0m\n\u001b[1;32m      1\u001b[0m \u001b[38;5;28;01mfrom\u001b[39;00m \u001b[38;5;21;01mtensorflow\u001b[39;00m\u001b[38;5;21;01m.\u001b[39;00m\u001b[38;5;21;01mpython\u001b[39;00m\u001b[38;5;21;01m.\u001b[39;00m\u001b[38;5;21;01mcompiler\u001b[39;00m\u001b[38;5;21;01m.\u001b[39;00m\u001b[38;5;21;01mtensorrt\u001b[39;00m \u001b[38;5;28;01mimport\u001b[39;00m trt_convert \u001b[38;5;28;01mas\u001b[39;00m trt\n\u001b[1;32m      3\u001b[0m conversion_params \u001b[38;5;241m=\u001b[39m trt\u001b[38;5;241m.\u001b[39mTrtConversionParams(\n\u001b[1;32m      4\u001b[0m     precision_mode\u001b[38;5;241m=\u001b[39mtrt\u001b[38;5;241m.\u001b[39mTrtPrecisionMode\u001b[38;5;241m.\u001b[39mFP32)\n\u001b[0;32m----> 6\u001b[0m converter \u001b[38;5;241m=\u001b[39m \u001b[43mtrt\u001b[49m\u001b[38;5;241;43m.\u001b[39;49m\u001b[43mTrtGraphConverterV2\u001b[49m\u001b[43m(\u001b[49m\n\u001b[1;32m      7\u001b[0m \u001b[43m    \u001b[49m\u001b[43minput_saved_model_dir\u001b[49m\u001b[38;5;241;43m=\u001b[39;49m\u001b[38;5;124;43m'\u001b[39;49m\u001b[38;5;124;43m../best_model/model1/mobilenetv2_best_f1score_fold\u001b[39;49m\u001b[38;5;124;43m'\u001b[39;49m\u001b[43m,\u001b[49m\n\u001b[1;32m      8\u001b[0m \u001b[43m    \u001b[49m\u001b[43mconversion_params\u001b[49m\u001b[38;5;241;43m=\u001b[39;49m\u001b[43mconversion_params\u001b[49m\u001b[43m)\u001b[49m\n\u001b[1;32m     10\u001b[0m \u001b[38;5;66;03m# Convert the model\u001b[39;00m\n\u001b[1;32m     11\u001b[0m converter\u001b[38;5;241m.\u001b[39mconvert()\n",
      "File \u001b[0;32m~/anaconda3/envs/capstone/lib/python3.12/site-packages/tensorflow/python/util/deprecation.py:588\u001b[0m, in \u001b[0;36mdeprecated_args.<locals>.deprecated_wrapper.<locals>.new_func\u001b[0;34m(*args, **kwargs)\u001b[0m\n\u001b[1;32m    580\u001b[0m         _PRINTED_WARNING[(func, arg_name)] \u001b[38;5;241m=\u001b[39m \u001b[38;5;28;01mTrue\u001b[39;00m\n\u001b[1;32m    581\u001b[0m       _log_deprecation(\n\u001b[1;32m    582\u001b[0m           \u001b[38;5;124m'\u001b[39m\u001b[38;5;124mFrom \u001b[39m\u001b[38;5;132;01m%s\u001b[39;00m\u001b[38;5;124m: calling \u001b[39m\u001b[38;5;132;01m%s\u001b[39;00m\u001b[38;5;124m (from \u001b[39m\u001b[38;5;132;01m%s\u001b[39;00m\u001b[38;5;124m) with \u001b[39m\u001b[38;5;132;01m%s\u001b[39;00m\u001b[38;5;124m is deprecated and will \u001b[39m\u001b[38;5;124m'\u001b[39m\n\u001b[1;32m    583\u001b[0m           \u001b[38;5;124m'\u001b[39m\u001b[38;5;124mbe removed \u001b[39m\u001b[38;5;132;01m%s\u001b[39;00m\u001b[38;5;124m.\u001b[39m\u001b[38;5;130;01m\\n\u001b[39;00m\u001b[38;5;124mInstructions for updating:\u001b[39m\u001b[38;5;130;01m\\n\u001b[39;00m\u001b[38;5;132;01m%s\u001b[39;00m\u001b[38;5;124m'\u001b[39m,\n\u001b[0;32m   (...)\u001b[0m\n\u001b[1;32m    586\u001b[0m           \u001b[38;5;124m'\u001b[39m\u001b[38;5;124min a future version\u001b[39m\u001b[38;5;124m'\u001b[39m \u001b[38;5;28;01mif\u001b[39;00m date \u001b[38;5;129;01mis\u001b[39;00m \u001b[38;5;28;01mNone\u001b[39;00m \u001b[38;5;28;01melse\u001b[39;00m (\u001b[38;5;124m'\u001b[39m\u001b[38;5;124mafter \u001b[39m\u001b[38;5;132;01m%s\u001b[39;00m\u001b[38;5;124m'\u001b[39m \u001b[38;5;241m%\u001b[39m date),\n\u001b[1;32m    587\u001b[0m           instructions)\n\u001b[0;32m--> 588\u001b[0m \u001b[38;5;28;01mreturn\u001b[39;00m \u001b[43mfunc\u001b[49m\u001b[43m(\u001b[49m\u001b[38;5;241;43m*\u001b[39;49m\u001b[43margs\u001b[49m\u001b[43m,\u001b[49m\u001b[43m \u001b[49m\u001b[38;5;241;43m*\u001b[39;49m\u001b[38;5;241;43m*\u001b[39;49m\u001b[43mkwargs\u001b[49m\u001b[43m)\u001b[49m\n",
      "File \u001b[0;32m~/anaconda3/envs/capstone/lib/python3.12/site-packages/tensorflow/python/compiler/tensorrt/trt_convert.py:1261\u001b[0m, in \u001b[0;36mTrtGraphConverterV2.__init__\u001b[0;34m(self, input_saved_model_dir, input_saved_model_tags, input_saved_model_signature_key, use_dynamic_shape, dynamic_shape_profile_strategy, max_workspace_size_bytes, precision_mode, minimum_segment_size, maximum_cached_engines, use_calibration, allow_build_at_runtime, conversion_params)\u001b[0m\n\u001b[1;32m   1252\u001b[0m \u001b[38;5;28;01mif\u001b[39;00m conversion_params \u001b[38;5;129;01mis\u001b[39;00m \u001b[38;5;28;01mNone\u001b[39;00m:\n\u001b[1;32m   1253\u001b[0m   conversion_params \u001b[38;5;241m=\u001b[39m TrtConversionParams(\n\u001b[1;32m   1254\u001b[0m       max_workspace_size_bytes\u001b[38;5;241m=\u001b[39mmax_workspace_size_bytes,\n\u001b[1;32m   1255\u001b[0m       precision_mode\u001b[38;5;241m=\u001b[39mprecision_mode,\n\u001b[0;32m   (...)\u001b[0m\n\u001b[1;32m   1258\u001b[0m       use_calibration\u001b[38;5;241m=\u001b[39muse_calibration,\n\u001b[1;32m   1259\u001b[0m       allow_build_at_runtime\u001b[38;5;241m=\u001b[39mallow_build_at_runtime)\n\u001b[0;32m-> 1261\u001b[0m \u001b[43m_check_trt_version_compatibility\u001b[49m\u001b[43m(\u001b[49m\u001b[43m)\u001b[49m\n\u001b[1;32m   1262\u001b[0m _check_conversion_params(conversion_params, is_v2\u001b[38;5;241m=\u001b[39m\u001b[38;5;28;01mTrue\u001b[39;00m)\n\u001b[1;32m   1264\u001b[0m \u001b[38;5;28mself\u001b[39m\u001b[38;5;241m.\u001b[39m_conversion_params \u001b[38;5;241m=\u001b[39m conversion_params\n",
      "File \u001b[0;32m~/anaconda3/envs/capstone/lib/python3.12/site-packages/tensorflow/python/compiler/tensorrt/trt_convert.py:224\u001b[0m, in \u001b[0;36m_check_trt_version_compatibility\u001b[0;34m()\u001b[0m\n\u001b[1;32m    219\u001b[0m \u001b[38;5;28;01mif\u001b[39;00m \u001b[38;5;129;01mnot\u001b[39;00m _pywrap_py_utils\u001b[38;5;241m.\u001b[39mis_tensorrt_enabled():\n\u001b[1;32m    220\u001b[0m   logging\u001b[38;5;241m.\u001b[39merror(\n\u001b[1;32m    221\u001b[0m       \u001b[38;5;124m\"\u001b[39m\u001b[38;5;124mTensorflow needs to be built with TensorRT support enabled to allow \u001b[39m\u001b[38;5;124m\"\u001b[39m\n\u001b[1;32m    222\u001b[0m       \u001b[38;5;124m\"\u001b[39m\u001b[38;5;124mTF-TRT to operate.\u001b[39m\u001b[38;5;124m\"\u001b[39m)\n\u001b[0;32m--> 224\u001b[0m   \u001b[38;5;28;01mraise\u001b[39;00m \u001b[38;5;167;01mRuntimeError\u001b[39;00m(\u001b[38;5;124m\"\u001b[39m\u001b[38;5;124mTensorflow has not been built with TensorRT support.\u001b[39m\u001b[38;5;124m\"\u001b[39m)\n\u001b[1;32m    226\u001b[0m \u001b[38;5;28;01mif\u001b[39;00m platform\u001b[38;5;241m.\u001b[39msystem() \u001b[38;5;241m==\u001b[39m \u001b[38;5;124m\"\u001b[39m\u001b[38;5;124mWindows\u001b[39m\u001b[38;5;124m\"\u001b[39m:\n\u001b[1;32m    227\u001b[0m   logging\u001b[38;5;241m.\u001b[39mwarn(\n\u001b[1;32m    228\u001b[0m       \u001b[38;5;124m\"\u001b[39m\u001b[38;5;124mWindows support is provided experimentally. No guarantee is made \u001b[39m\u001b[38;5;124m\"\u001b[39m\n\u001b[1;32m    229\u001b[0m       \u001b[38;5;124m\"\u001b[39m\u001b[38;5;124mregarding functionality or engineering support. Use at your own risk.\u001b[39m\u001b[38;5;124m\"\u001b[39m)\n",
      "\u001b[0;31mRuntimeError\u001b[0m: Tensorflow has not been built with TensorRT support."
     ]
    }
   ],
   "source": [
    "from tensorflow.python.compiler.tensorrt import trt_convert as trt\n",
    "\n",
    "# Load the SavedModel\n",
    "saved_model_dir = '../best_model/model1/best_f1score_fold'\n",
    "optimized_model_dir = '../tensorRT_model/test'\n",
    "\n",
    "conversion_params = trt.TrtConversionParams(\n",
    "    precision_mode=trt.TrtPrecisionMode.FP32)\n",
    "\n",
    "converter = trt.TrtGraphConverterV2(\n",
    "    input_saved_model_dir='../best_model/model1/mobilenetv2_best_f1score_fold',\n",
    "    conversion_params=conversion_params)\n",
    "\n",
    "# Convert the model\n",
    "converter.convert()\n",
    "converter.build()\n",
    "for layer in converter.layers:\n",
    "    print(f'Layer {layer.name}: {layer.dtype}')\n",
    "\n",
    "converter.summary()\n",
    "\n",
    "# Save the optimized model\n",
    "converter.save(optimized_model_dir)"
   ]
  },
  {
   "cell_type": "markdown",
   "metadata": {},
   "source": [
    "### TensorRT Optimization INT8"
   ]
  },
  {
   "cell_type": "code",
   "execution_count": 4,
   "metadata": {},
   "outputs": [],
   "source": [
    "import os\n",
    "os.environ['TF_GPU_ALLOCATOR'] = 'cuda_malloc_async'\n"
   ]
  },
  {
   "cell_type": "code",
   "execution_count": 3,
   "metadata": {},
   "outputs": [
    {
     "name": "stdout",
     "output_type": "stream",
     "text": [
      "INFO:tensorflow:Linked TensorRT version: (10, 5, 0)\n",
      "INFO:tensorflow:Loaded TensorRT version: (10, 5, 0)\n"
     ]
    },
    {
     "name": "stderr",
     "output_type": "stream",
     "text": [
      "2024-11-12 23:41:17.897050: I external/local_xla/xla/stream_executor/cuda/cuda_executor.cc:998] successful NUMA node read from SysFS had negative value (-1), but there must be at least one NUMA node, so returning NUMA node zero. See more at https://github.com/torvalds/linux/blob/v6.0/Documentation/ABI/testing/sysfs-bus-pci#L344-L355\n",
      "2024-11-12 23:41:17.897432: I external/local_xla/xla/stream_executor/cuda/cuda_executor.cc:998] successful NUMA node read from SysFS had negative value (-1), but there must be at least one NUMA node, so returning NUMA node zero. See more at https://github.com/torvalds/linux/blob/v6.0/Documentation/ABI/testing/sysfs-bus-pci#L344-L355\n",
      "2024-11-12 23:41:17.897536: I tensorflow/core/grappler/devices.cc:66] Number of eligible GPUs (core count >= 8, compute capability >= 0.0): 2\n",
      "2024-11-12 23:41:17.897991: I tensorflow/core/grappler/clusters/single_machine.cc:361] Starting new session\n",
      "2024-11-12 23:41:17.899085: I external/local_xla/xla/stream_executor/cuda/cuda_executor.cc:998] successful NUMA node read from SysFS had negative value (-1), but there must be at least one NUMA node, so returning NUMA node zero. See more at https://github.com/torvalds/linux/blob/v6.0/Documentation/ABI/testing/sysfs-bus-pci#L344-L355\n",
      "2024-11-12 23:41:17.899226: I external/local_xla/xla/stream_executor/cuda/cuda_executor.cc:998] successful NUMA node read from SysFS had negative value (-1), but there must be at least one NUMA node, so returning NUMA node zero. See more at https://github.com/torvalds/linux/blob/v6.0/Documentation/ABI/testing/sysfs-bus-pci#L344-L355\n",
      "2024-11-12 23:41:17.899349: I external/local_xla/xla/stream_executor/cuda/cuda_executor.cc:998] successful NUMA node read from SysFS had negative value (-1), but there must be at least one NUMA node, so returning NUMA node zero. See more at https://github.com/torvalds/linux/blob/v6.0/Documentation/ABI/testing/sysfs-bus-pci#L344-L355\n",
      "2024-11-12 23:41:17.899465: I external/local_xla/xla/stream_executor/cuda/cuda_executor.cc:998] successful NUMA node read from SysFS had negative value (-1), but there must be at least one NUMA node, so returning NUMA node zero. See more at https://github.com/torvalds/linux/blob/v6.0/Documentation/ABI/testing/sysfs-bus-pci#L344-L355\n",
      "2024-11-12 23:41:17.899580: I external/local_xla/xla/stream_executor/cuda/cuda_executor.cc:998] successful NUMA node read from SysFS had negative value (-1), but there must be at least one NUMA node, so returning NUMA node zero. See more at https://github.com/torvalds/linux/blob/v6.0/Documentation/ABI/testing/sysfs-bus-pci#L344-L355\n",
      "2024-11-12 23:41:17.899853: I external/local_xla/xla/stream_executor/cuda/cuda_executor.cc:998] successful NUMA node read from SysFS had negative value (-1), but there must be at least one NUMA node, so returning NUMA node zero. See more at https://github.com/torvalds/linux/blob/v6.0/Documentation/ABI/testing/sysfs-bus-pci#L344-L355\n",
      "2024-11-12 23:41:17.900363: I external/local_xla/xla/stream_executor/cuda/cuda_executor.cc:998] successful NUMA node read from SysFS had negative value (-1), but there must be at least one NUMA node, so returning NUMA node zero. See more at https://github.com/torvalds/linux/blob/v6.0/Documentation/ABI/testing/sysfs-bus-pci#L344-L355\n",
      "2024-11-12 23:41:17.900479: I external/local_xla/xla/stream_executor/cuda/cuda_executor.cc:998] successful NUMA node read from SysFS had negative value (-1), but there must be at least one NUMA node, so returning NUMA node zero. See more at https://github.com/torvalds/linux/blob/v6.0/Documentation/ABI/testing/sysfs-bus-pci#L344-L355\n",
      "2024-11-12 23:41:17.900588: I external/local_xla/xla/stream_executor/cuda/cuda_executor.cc:998] successful NUMA node read from SysFS had negative value (-1), but there must be at least one NUMA node, so returning NUMA node zero. See more at https://github.com/torvalds/linux/blob/v6.0/Documentation/ABI/testing/sysfs-bus-pci#L344-L355\n",
      "2024-11-12 23:41:17.900686: I tensorflow/core/common_runtime/gpu/gpu_device.cc:1928] Created device /job:localhost/replica:0/task:0/device:GPU:0 with 1221 MB memory:  -> device: 0, name: NVIDIA GeForce RTX 4090, pci bus id: 0000:41:00.0, compute capability: 8.9\n",
      "2024-11-12 23:41:17.900711: I external/local_xla/xla/stream_executor/cuda/cuda_executor.cc:998] successful NUMA node read from SysFS had negative value (-1), but there must be at least one NUMA node, so returning NUMA node zero. See more at https://github.com/torvalds/linux/blob/v6.0/Documentation/ABI/testing/sysfs-bus-pci#L344-L355\n",
      "2024-11-12 23:41:17.900807: I tensorflow/core/common_runtime/gpu/gpu_device.cc:1928] Created device /job:localhost/replica:0/task:0/device:GPU:1 with 21620 MB memory:  -> device: 1, name: NVIDIA GeForce RTX 4090, pci bus id: 0000:82:00.0, compute capability: 8.9\n"
     ]
    },
    {
     "name": "stdout",
     "output_type": "stream",
     "text": [
      "INFO:tensorflow:Clearing prior device assignments in loaded saved model\n",
      "INFO:tensorflow:Automatic mixed precision will be used on the whole TensorFlow Graph. This behavior can be deactivated using the environment variable: TF_TRT_EXPERIMENTAL_FEATURES=deactivate_mixed_precision.\n",
      "More information can be found on: https://www.tensorflow.org/guide/mixed_precision.\n"
     ]
    },
    {
     "name": "stderr",
     "output_type": "stream",
     "text": [
      "2024-11-12 23:41:19.272056: I external/local_xla/xla/stream_executor/cuda/cuda_executor.cc:998] successful NUMA node read from SysFS had negative value (-1), but there must be at least one NUMA node, so returning NUMA node zero. See more at https://github.com/torvalds/linux/blob/v6.0/Documentation/ABI/testing/sysfs-bus-pci#L344-L355\n",
      "2024-11-12 23:41:19.272258: I external/local_xla/xla/stream_executor/cuda/cuda_executor.cc:998] successful NUMA node read from SysFS had negative value (-1), but there must be at least one NUMA node, so returning NUMA node zero. See more at https://github.com/torvalds/linux/blob/v6.0/Documentation/ABI/testing/sysfs-bus-pci#L344-L355\n",
      "2024-11-12 23:41:19.272364: I tensorflow/core/grappler/devices.cc:66] Number of eligible GPUs (core count >= 8, compute capability >= 0.0): 2\n",
      "2024-11-12 23:41:19.272466: I tensorflow/core/grappler/clusters/single_machine.cc:361] Starting new session\n",
      "2024-11-12 23:41:19.272800: I external/local_xla/xla/stream_executor/cuda/cuda_executor.cc:998] successful NUMA node read from SysFS had negative value (-1), but there must be at least one NUMA node, so returning NUMA node zero. See more at https://github.com/torvalds/linux/blob/v6.0/Documentation/ABI/testing/sysfs-bus-pci#L344-L355\n",
      "2024-11-12 23:41:19.272930: I external/local_xla/xla/stream_executor/cuda/cuda_executor.cc:998] successful NUMA node read from SysFS had negative value (-1), but there must be at least one NUMA node, so returning NUMA node zero. See more at https://github.com/torvalds/linux/blob/v6.0/Documentation/ABI/testing/sysfs-bus-pci#L344-L355\n",
      "2024-11-12 23:41:19.273058: I external/local_xla/xla/stream_executor/cuda/cuda_executor.cc:998] successful NUMA node read from SysFS had negative value (-1), but there must be at least one NUMA node, so returning NUMA node zero. See more at https://github.com/torvalds/linux/blob/v6.0/Documentation/ABI/testing/sysfs-bus-pci#L344-L355\n",
      "2024-11-12 23:41:19.273173: I external/local_xla/xla/stream_executor/cuda/cuda_executor.cc:998] successful NUMA node read from SysFS had negative value (-1), but there must be at least one NUMA node, so returning NUMA node zero. See more at https://github.com/torvalds/linux/blob/v6.0/Documentation/ABI/testing/sysfs-bus-pci#L344-L355\n",
      "2024-11-12 23:41:19.273288: I external/local_xla/xla/stream_executor/cuda/cuda_executor.cc:998] successful NUMA node read from SysFS had negative value (-1), but there must be at least one NUMA node, so returning NUMA node zero. See more at https://github.com/torvalds/linux/blob/v6.0/Documentation/ABI/testing/sysfs-bus-pci#L344-L355\n",
      "2024-11-12 23:41:19.273402: I external/local_xla/xla/stream_executor/cuda/cuda_executor.cc:998] successful NUMA node read from SysFS had negative value (-1), but there must be at least one NUMA node, so returning NUMA node zero. See more at https://github.com/torvalds/linux/blob/v6.0/Documentation/ABI/testing/sysfs-bus-pci#L344-L355\n",
      "2024-11-12 23:41:19.273594: I external/local_xla/xla/stream_executor/cuda/cuda_executor.cc:998] successful NUMA node read from SysFS had negative value (-1), but there must be at least one NUMA node, so returning NUMA node zero. See more at https://github.com/torvalds/linux/blob/v6.0/Documentation/ABI/testing/sysfs-bus-pci#L344-L355\n",
      "2024-11-12 23:41:19.273713: I external/local_xla/xla/stream_executor/cuda/cuda_executor.cc:998] successful NUMA node read from SysFS had negative value (-1), but there must be at least one NUMA node, so returning NUMA node zero. See more at https://github.com/torvalds/linux/blob/v6.0/Documentation/ABI/testing/sysfs-bus-pci#L344-L355\n",
      "2024-11-12 23:41:19.273834: I external/local_xla/xla/stream_executor/cuda/cuda_executor.cc:998] successful NUMA node read from SysFS had negative value (-1), but there must be at least one NUMA node, so returning NUMA node zero. See more at https://github.com/torvalds/linux/blob/v6.0/Documentation/ABI/testing/sysfs-bus-pci#L344-L355\n",
      "2024-11-12 23:41:19.273940: I tensorflow/core/common_runtime/gpu/gpu_device.cc:1928] Created device /job:localhost/replica:0/task:0/device:GPU:0 with 1221 MB memory:  -> device: 0, name: NVIDIA GeForce RTX 4090, pci bus id: 0000:41:00.0, compute capability: 8.9\n",
      "2024-11-12 23:41:19.273967: I external/local_xla/xla/stream_executor/cuda/cuda_executor.cc:998] successful NUMA node read from SysFS had negative value (-1), but there must be at least one NUMA node, so returning NUMA node zero. See more at https://github.com/torvalds/linux/blob/v6.0/Documentation/ABI/testing/sysfs-bus-pci#L344-L355\n",
      "2024-11-12 23:41:19.274076: I tensorflow/core/common_runtime/gpu/gpu_device.cc:1928] Created device /job:localhost/replica:0/task:0/device:GPU:1 with 21620 MB memory:  -> device: 1, name: NVIDIA GeForce RTX 4090, pci bus id: 0000:82:00.0, compute capability: 8.9\n",
      "2024-11-12 23:41:19.312091: I tensorflow/core/grappler/optimizers/auto_mixed_precision.cc:2373] Running auto_mixed_precision graph optimizer\n",
      "2024-11-12 23:41:19.315161: I tensorflow/core/grappler/optimizers/auto_mixed_precision.cc:1209] Automatic Mixed Precision Grappler Pass Summary:\n",
      "\n",
      "Total processable nodes: 1055\n",
      "Recognized nodes available for conversion: 684\n",
      "Total nodes converted: 256\n",
      "Total FP16 Cast ops used (excluding Const and Variable casts): 104\n",
      "Allowlisted nodes converted: 53\n",
      "Denylisted nodes blocking conversion: 2\n",
      "Nodes blocked from conversion by denylisted nodes: 0\n",
      "\n",
      "For more information regarding mixed precision training, including how to make automatic mixed precision aware of a custom op type, please see the documentation available here:\n",
      "https://docs.nvidia.com/deeplearning/frameworks/tensorflow-user-guide/index.html#tfamp\n",
      "\n",
      "\n",
      "2024-11-12 23:41:19.377356: W tensorflow/compiler/tf2tensorrt/segment/segment.cc:970] \n",
      "\n",
      "################################################################################\n",
      "TensorRT unsupported/non-converted OP Report:\n",
      "\t- NoOp -> 2x\n",
      "\t- Identity -> 1x\n",
      "\t- Placeholder -> 1x\n",
      "--------------------------------------------------------------------------------\n",
      "\t- Total nonconverted OPs: 4\n",
      "\t- Total nonconverted OP Types: 3\n",
      "For more information see https://docs.nvidia.com/deeplearning/frameworks/tf-trt-user-guide/index.html#supported-ops.\n",
      "################################################################################\n",
      "\n",
      "2024-11-12 23:41:19.380289: W tensorflow/compiler/tf2tensorrt/segment/segment.cc:1298] The environment variable TF_TRT_MAX_ALLOWED_ENGINES=20 has no effect since there are only 1 TRT Engines with  at least minimum_segment_size=3 nodes.\n",
      "2024-11-12 23:41:19.381115: I tensorflow/compiler/tf2tensorrt/convert/convert_graph.cc:805] Number of TensorRT candidate segments: 1\n",
      "2024-11-12 23:41:19.383926: I tensorflow/compiler/tf2tensorrt/convert/convert_graph.cc:919] Replaced segment 0 consisting of 304 nodes by TRTEngineOp_000_000.\n",
      "2024-11-12 23:41:19.391976: I tensorflow/core/grappler/optimizers/auto_mixed_precision.cc:1209] Automatic Mixed Precision Grappler Pass Summary:\n",
      "\n",
      "Total processable nodes: 313\n",
      "Recognized nodes available for conversion: 179\n",
      "Total nodes converted: 0\n",
      "Total FP16 Cast ops used (excluding Const and Variable casts): 0\n",
      "Allowlisted nodes converted: 53\n",
      "Denylisted nodes blocking conversion: 2\n",
      "Nodes blocked from conversion by denylisted nodes: 0\n",
      "\n",
      "For more information regarding mixed precision training, including how to make automatic mixed precision aware of a custom op type, please see the documentation available here:\n",
      "https://docs.nvidia.com/deeplearning/frameworks/tensorflow-user-guide/index.html#tfamp\n",
      "\n",
      "\n"
     ]
    },
    {
     "name": "stdout",
     "output_type": "stream",
     "text": [
      "Building and calibrating the model with fixed input shapes...\n"
     ]
    },
    {
     "name": "stderr",
     "output_type": "stream",
     "text": [
      "2024-11-12 23:41:19.720673: E tensorflow/core/util/util.cc:131] oneDNN supports DT_HALF only on platforms with AVX-512. Falling back to the default Eigen-based implementation if present.\n",
      "2024-11-12 23:41:19.781596: I external/local_xla/xla/stream_executor/cuda/cuda_dnn.cc:465] Loaded cuDNN version 90500\n"
     ]
    },
    {
     "name": "stdout",
     "output_type": "stream",
     "text": [
      "Found 228 files belonging to 2 classes.\n"
     ]
    },
    {
     "name": "stderr",
     "output_type": "stream",
     "text": [
      "2024-11-12 23:41:20.312224: I tensorflow/compiler/tf2tensorrt/common/utils.cc:120] Linked TensorRT version: 10.5.0\n",
      "2024-11-12 23:41:20.312250: I tensorflow/compiler/tf2tensorrt/common/utils.cc:122] Loaded TensorRT version: 10.5.0\n",
      "2024-11-12 23:41:29.391805: W tensorflow/compiler/tf2tensorrt/utils/trt_logger.cc:83] TF-TRT Warning: DefaultLogger IElementWiseLayer with inputs StatefulPartitionedCall/sequential_1_1/mobilenetv2_1.00_224_1/bn_Conv1_1/batchnorm/mul_1 and TRTEngineOp_000_000/_tftrt_constant_-0:CONSTANT_output: first input has type Float but second input has type Half.\n",
      "2024-11-12 23:41:29.392390: W tensorflow/compiler/tf2tensorrt/utils/trt_logger.cc:83] TF-TRT Warning: DefaultLogger IElementWiseLayer with inputs StatefulPartitionedCall/sequential_1_1/mobilenetv2_1.00_224_1/expanded_conv_depthwise_1/depthwise and TRTEngineOp_000_000/_tftrt_constant_-1:CONSTANT_output: first input has type Float but second input has type Half.\n",
      "2024-11-12 23:41:29.392421: W tensorflow/compiler/tf2tensorrt/utils/trt_logger.cc:83] TF-TRT Warning: DefaultLogger IElementWiseLayer with inputs StatefulPartitionedCall/sequential_1_1/mobilenetv2_1.00_224_1/expanded_conv_depthwise_BN_1/batchnorm/mul_1 and TRTEngineOp_000_000/_tftrt_constant_-2:CONSTANT_output: first input has type Float but second input has type Half.\n",
      "2024-11-12 23:41:29.392466: W tensorflow/compiler/tf2tensorrt/utils/trt_logger.cc:83] TF-TRT Warning: DefaultLogger IElementWiseLayer with inputs StatefulPartitionedCall/sequential_1_1/mobilenetv2_1.00_224_1/expanded_conv_project_BN_1/batchnorm/mul_1 and TRTEngineOp_000_000/_tftrt_constant_-3:CONSTANT_output: first input has type Float but second input has type Half.\n",
      "2024-11-12 23:41:29.392503: W tensorflow/compiler/tf2tensorrt/utils/trt_logger.cc:83] TF-TRT Warning: DefaultLogger IElementWiseLayer with inputs StatefulPartitionedCall/sequential_1_1/mobilenetv2_1.00_224_1/block_1_expand_BN_1/batchnorm/mul_1 and TRTEngineOp_000_000/_tftrt_constant_-4:CONSTANT_output: first input has type Float but second input has type Half.\n",
      "2024-11-12 23:41:29.392791: W tensorflow/compiler/tf2tensorrt/utils/trt_logger.cc:83] TF-TRT Warning: DefaultLogger IElementWiseLayer with inputs StatefulPartitionedCall/sequential_1_1/mobilenetv2_1.00_224_1/block_1_depthwise_1/depthwise and TRTEngineOp_000_000/_tftrt_constant_-5:CONSTANT_output: first input has type Float but second input has type Half.\n",
      "2024-11-12 23:41:29.392818: W tensorflow/compiler/tf2tensorrt/utils/trt_logger.cc:83] TF-TRT Warning: DefaultLogger IElementWiseLayer with inputs StatefulPartitionedCall/sequential_1_1/mobilenetv2_1.00_224_1/block_1_depthwise_BN_1/batchnorm/mul_1 and TRTEngineOp_000_000/_tftrt_constant_-6:CONSTANT_output: first input has type Float but second input has type Half.\n",
      "2024-11-12 23:41:29.392865: W tensorflow/compiler/tf2tensorrt/utils/trt_logger.cc:83] TF-TRT Warning: DefaultLogger IElementWiseLayer with inputs StatefulPartitionedCall/sequential_1_1/mobilenetv2_1.00_224_1/block_1_project_BN_1/batchnorm/mul_1 and TRTEngineOp_000_000/_tftrt_constant_-7:CONSTANT_output: first input has type Float but second input has type Half.\n",
      "2024-11-12 23:41:29.392906: W tensorflow/compiler/tf2tensorrt/utils/trt_logger.cc:83] TF-TRT Warning: DefaultLogger IElementWiseLayer with inputs StatefulPartitionedCall/sequential_1_1/mobilenetv2_1.00_224_1/block_2_expand_BN_1/batchnorm/mul_1 and TRTEngineOp_000_000/_tftrt_constant_-8:CONSTANT_output: first input has type Float but second input has type Half.\n",
      "2024-11-12 23:41:29.392948: W tensorflow/compiler/tf2tensorrt/utils/trt_logger.cc:83] TF-TRT Warning: DefaultLogger IElementWiseLayer with inputs StatefulPartitionedCall/sequential_1_1/mobilenetv2_1.00_224_1/block_2_depthwise_1/depthwise and TRTEngineOp_000_000/_tftrt_constant_-9:CONSTANT_output: first input has type Float but second input has type Half.\n",
      "2024-11-12 23:41:29.392964: W tensorflow/compiler/tf2tensorrt/utils/trt_logger.cc:83] TF-TRT Warning: DefaultLogger IElementWiseLayer with inputs StatefulPartitionedCall/sequential_1_1/mobilenetv2_1.00_224_1/block_2_depthwise_BN_1/batchnorm/mul_1 and TRTEngineOp_000_000/_tftrt_constant_-10:CONSTANT_output: first input has type Float but second input has type Half.\n",
      "2024-11-12 23:41:29.392997: W tensorflow/compiler/tf2tensorrt/utils/trt_logger.cc:83] TF-TRT Warning: DefaultLogger IElementWiseLayer with inputs StatefulPartitionedCall/sequential_1_1/mobilenetv2_1.00_224_1/block_2_project_BN_1/batchnorm/mul_1 and TRTEngineOp_000_000/_tftrt_constant_-11:CONSTANT_output: first input has type Float but second input has type Half.\n",
      "2024-11-12 23:41:29.393044: W tensorflow/compiler/tf2tensorrt/utils/trt_logger.cc:83] TF-TRT Warning: DefaultLogger IElementWiseLayer with inputs StatefulPartitionedCall/sequential_1_1/mobilenetv2_1.00_224_1/block_3_expand_BN_1/batchnorm/mul_1 and TRTEngineOp_000_000/_tftrt_constant_-12:CONSTANT_output: first input has type Float but second input has type Half.\n",
      "2024-11-12 23:41:29.393085: W tensorflow/compiler/tf2tensorrt/utils/trt_logger.cc:83] TF-TRT Warning: DefaultLogger IElementWiseLayer with inputs StatefulPartitionedCall/sequential_1_1/mobilenetv2_1.00_224_1/block_3_depthwise_1/depthwise and TRTEngineOp_000_000/_tftrt_constant_-13:CONSTANT_output: first input has type Float but second input has type Half.\n",
      "2024-11-12 23:41:29.393099: W tensorflow/compiler/tf2tensorrt/utils/trt_logger.cc:83] TF-TRT Warning: DefaultLogger IElementWiseLayer with inputs StatefulPartitionedCall/sequential_1_1/mobilenetv2_1.00_224_1/block_3_depthwise_BN_1/batchnorm/mul_1 and TRTEngineOp_000_000/_tftrt_constant_-14:CONSTANT_output: first input has type Float but second input has type Half.\n",
      "2024-11-12 23:41:29.393134: W tensorflow/compiler/tf2tensorrt/utils/trt_logger.cc:83] TF-TRT Warning: DefaultLogger IElementWiseLayer with inputs StatefulPartitionedCall/sequential_1_1/mobilenetv2_1.00_224_1/block_3_project_BN_1/batchnorm/mul_1 and TRTEngineOp_000_000/_tftrt_constant_-15:CONSTANT_output: first input has type Float but second input has type Half.\n",
      "2024-11-12 23:41:29.393166: W tensorflow/compiler/tf2tensorrt/utils/trt_logger.cc:83] TF-TRT Warning: DefaultLogger IElementWiseLayer with inputs StatefulPartitionedCall/sequential_1_1/mobilenetv2_1.00_224_1/block_4_expand_BN_1/batchnorm/mul_1 and TRTEngineOp_000_000/_tftrt_constant_-16:CONSTANT_output: first input has type Float but second input has type Half.\n",
      "2024-11-12 23:41:29.393200: W tensorflow/compiler/tf2tensorrt/utils/trt_logger.cc:83] TF-TRT Warning: DefaultLogger IElementWiseLayer with inputs StatefulPartitionedCall/sequential_1_1/mobilenetv2_1.00_224_1/block_4_depthwise_1/depthwise and TRTEngineOp_000_000/_tftrt_constant_-17:CONSTANT_output: first input has type Float but second input has type Half.\n",
      "2024-11-12 23:41:29.393215: W tensorflow/compiler/tf2tensorrt/utils/trt_logger.cc:83] TF-TRT Warning: DefaultLogger IElementWiseLayer with inputs StatefulPartitionedCall/sequential_1_1/mobilenetv2_1.00_224_1/block_4_depthwise_BN_1/batchnorm/mul_1 and TRTEngineOp_000_000/_tftrt_constant_-18:CONSTANT_output: first input has type Float but second input has type Half.\n",
      "2024-11-12 23:41:29.393252: W tensorflow/compiler/tf2tensorrt/utils/trt_logger.cc:83] TF-TRT Warning: DefaultLogger IElementWiseLayer with inputs StatefulPartitionedCall/sequential_1_1/mobilenetv2_1.00_224_1/block_4_project_BN_1/batchnorm/mul_1 and TRTEngineOp_000_000/_tftrt_constant_-19:CONSTANT_output: first input has type Float but second input has type Half.\n",
      "2024-11-12 23:41:29.393289: W tensorflow/compiler/tf2tensorrt/utils/trt_logger.cc:83] TF-TRT Warning: DefaultLogger IElementWiseLayer with inputs StatefulPartitionedCall/sequential_1_1/mobilenetv2_1.00_224_1/block_5_expand_BN_1/batchnorm/mul_1 and TRTEngineOp_000_000/_tftrt_constant_-20:CONSTANT_output: first input has type Float but second input has type Half.\n",
      "2024-11-12 23:41:29.393318: W tensorflow/compiler/tf2tensorrt/utils/trt_logger.cc:83] TF-TRT Warning: DefaultLogger IElementWiseLayer with inputs StatefulPartitionedCall/sequential_1_1/mobilenetv2_1.00_224_1/block_5_depthwise_1/depthwise and TRTEngineOp_000_000/_tftrt_constant_-21:CONSTANT_output: first input has type Float but second input has type Half.\n",
      "2024-11-12 23:41:29.393333: W tensorflow/compiler/tf2tensorrt/utils/trt_logger.cc:83] TF-TRT Warning: DefaultLogger IElementWiseLayer with inputs StatefulPartitionedCall/sequential_1_1/mobilenetv2_1.00_224_1/block_5_depthwise_BN_1/batchnorm/mul_1 and TRTEngineOp_000_000/_tftrt_constant_-22:CONSTANT_output: first input has type Float but second input has type Half.\n",
      "2024-11-12 23:41:29.393367: W tensorflow/compiler/tf2tensorrt/utils/trt_logger.cc:83] TF-TRT Warning: DefaultLogger IElementWiseLayer with inputs StatefulPartitionedCall/sequential_1_1/mobilenetv2_1.00_224_1/block_5_project_BN_1/batchnorm/mul_1 and TRTEngineOp_000_000/_tftrt_constant_-23:CONSTANT_output: first input has type Float but second input has type Half.\n",
      "2024-11-12 23:41:29.393403: W tensorflow/compiler/tf2tensorrt/utils/trt_logger.cc:83] TF-TRT Warning: DefaultLogger IElementWiseLayer with inputs StatefulPartitionedCall/sequential_1_1/mobilenetv2_1.00_224_1/block_6_expand_BN_1/batchnorm/mul_1 and TRTEngineOp_000_000/_tftrt_constant_-24:CONSTANT_output: first input has type Float but second input has type Half.\n",
      "2024-11-12 23:41:29.393440: W tensorflow/compiler/tf2tensorrt/utils/trt_logger.cc:83] TF-TRT Warning: DefaultLogger IElementWiseLayer with inputs StatefulPartitionedCall/sequential_1_1/mobilenetv2_1.00_224_1/block_6_depthwise_1/depthwise and TRTEngineOp_000_000/_tftrt_constant_-25:CONSTANT_output: first input has type Float but second input has type Half.\n",
      "2024-11-12 23:41:29.393454: W tensorflow/compiler/tf2tensorrt/utils/trt_logger.cc:83] TF-TRT Warning: DefaultLogger IElementWiseLayer with inputs StatefulPartitionedCall/sequential_1_1/mobilenetv2_1.00_224_1/block_6_depthwise_BN_1/batchnorm/mul_1 and TRTEngineOp_000_000/_tftrt_constant_-26:CONSTANT_output: first input has type Float but second input has type Half.\n",
      "2024-11-12 23:41:29.393497: W tensorflow/compiler/tf2tensorrt/utils/trt_logger.cc:83] TF-TRT Warning: DefaultLogger IElementWiseLayer with inputs StatefulPartitionedCall/sequential_1_1/mobilenetv2_1.00_224_1/block_6_project_BN_1/batchnorm/mul_1 and TRTEngineOp_000_000/_tftrt_constant_-27:CONSTANT_output: first input has type Float but second input has type Half.\n",
      "2024-11-12 23:41:29.393550: W tensorflow/compiler/tf2tensorrt/utils/trt_logger.cc:83] TF-TRT Warning: DefaultLogger IElementWiseLayer with inputs StatefulPartitionedCall/sequential_1_1/mobilenetv2_1.00_224_1/block_7_expand_BN_1/batchnorm/mul_1 and TRTEngineOp_000_000/_tftrt_constant_-28:CONSTANT_output: first input has type Float but second input has type Half.\n",
      "2024-11-12 23:41:29.393581: W tensorflow/compiler/tf2tensorrt/utils/trt_logger.cc:83] TF-TRT Warning: DefaultLogger IElementWiseLayer with inputs StatefulPartitionedCall/sequential_1_1/mobilenetv2_1.00_224_1/block_7_depthwise_1/depthwise and TRTEngineOp_000_000/_tftrt_constant_-29:CONSTANT_output: first input has type Float but second input has type Half.\n",
      "2024-11-12 23:41:29.393596: W tensorflow/compiler/tf2tensorrt/utils/trt_logger.cc:83] TF-TRT Warning: DefaultLogger IElementWiseLayer with inputs StatefulPartitionedCall/sequential_1_1/mobilenetv2_1.00_224_1/block_7_depthwise_BN_1/batchnorm/mul_1 and TRTEngineOp_000_000/_tftrt_constant_-30:CONSTANT_output: first input has type Float but second input has type Half.\n",
      "2024-11-12 23:41:29.393653: W tensorflow/compiler/tf2tensorrt/utils/trt_logger.cc:83] TF-TRT Warning: DefaultLogger IElementWiseLayer with inputs StatefulPartitionedCall/sequential_1_1/mobilenetv2_1.00_224_1/block_7_project_BN_1/batchnorm/mul_1 and TRTEngineOp_000_000/_tftrt_constant_-31:CONSTANT_output: first input has type Float but second input has type Half.\n",
      "2024-11-12 23:41:29.393715: W tensorflow/compiler/tf2tensorrt/utils/trt_logger.cc:83] TF-TRT Warning: DefaultLogger IElementWiseLayer with inputs StatefulPartitionedCall/sequential_1_1/mobilenetv2_1.00_224_1/block_8_expand_BN_1/batchnorm/mul_1 and TRTEngineOp_000_000/_tftrt_constant_-32:CONSTANT_output: first input has type Float but second input has type Half.\n",
      "2024-11-12 23:41:29.393745: W tensorflow/compiler/tf2tensorrt/utils/trt_logger.cc:83] TF-TRT Warning: DefaultLogger IElementWiseLayer with inputs StatefulPartitionedCall/sequential_1_1/mobilenetv2_1.00_224_1/block_8_depthwise_1/depthwise and TRTEngineOp_000_000/_tftrt_constant_-33:CONSTANT_output: first input has type Float but second input has type Half.\n",
      "2024-11-12 23:41:29.393759: W tensorflow/compiler/tf2tensorrt/utils/trt_logger.cc:83] TF-TRT Warning: DefaultLogger IElementWiseLayer with inputs StatefulPartitionedCall/sequential_1_1/mobilenetv2_1.00_224_1/block_8_depthwise_BN_1/batchnorm/mul_1 and TRTEngineOp_000_000/_tftrt_constant_-34:CONSTANT_output: first input has type Float but second input has type Half.\n",
      "2024-11-12 23:41:29.393817: W tensorflow/compiler/tf2tensorrt/utils/trt_logger.cc:83] TF-TRT Warning: DefaultLogger IElementWiseLayer with inputs StatefulPartitionedCall/sequential_1_1/mobilenetv2_1.00_224_1/block_8_project_BN_1/batchnorm/mul_1 and TRTEngineOp_000_000/_tftrt_constant_-35:CONSTANT_output: first input has type Float but second input has type Half.\n",
      "2024-11-12 23:41:29.393885: W tensorflow/compiler/tf2tensorrt/utils/trt_logger.cc:83] TF-TRT Warning: DefaultLogger IElementWiseLayer with inputs StatefulPartitionedCall/sequential_1_1/mobilenetv2_1.00_224_1/block_9_expand_BN_1/batchnorm/mul_1 and TRTEngineOp_000_000/_tftrt_constant_-36:CONSTANT_output: first input has type Float but second input has type Half.\n",
      "2024-11-12 23:41:29.393917: W tensorflow/compiler/tf2tensorrt/utils/trt_logger.cc:83] TF-TRT Warning: DefaultLogger IElementWiseLayer with inputs StatefulPartitionedCall/sequential_1_1/mobilenetv2_1.00_224_1/block_9_depthwise_1/depthwise and TRTEngineOp_000_000/_tftrt_constant_-37:CONSTANT_output: first input has type Float but second input has type Half.\n",
      "2024-11-12 23:41:29.393931: W tensorflow/compiler/tf2tensorrt/utils/trt_logger.cc:83] TF-TRT Warning: DefaultLogger IElementWiseLayer with inputs StatefulPartitionedCall/sequential_1_1/mobilenetv2_1.00_224_1/block_9_depthwise_BN_1/batchnorm/mul_1 and TRTEngineOp_000_000/_tftrt_constant_-38:CONSTANT_output: first input has type Float but second input has type Half.\n",
      "2024-11-12 23:41:29.393990: W tensorflow/compiler/tf2tensorrt/utils/trt_logger.cc:83] TF-TRT Warning: DefaultLogger IElementWiseLayer with inputs StatefulPartitionedCall/sequential_1_1/mobilenetv2_1.00_224_1/block_9_project_BN_1/batchnorm/mul_1 and TRTEngineOp_000_000/_tftrt_constant_-39:CONSTANT_output: first input has type Float but second input has type Half.\n",
      "2024-11-12 23:41:29.394061: W tensorflow/compiler/tf2tensorrt/utils/trt_logger.cc:83] TF-TRT Warning: DefaultLogger IElementWiseLayer with inputs StatefulPartitionedCall/sequential_1_1/mobilenetv2_1.00_224_1/block_10_expand_BN_1/batchnorm/mul_1 and TRTEngineOp_000_000/_tftrt_constant_-40:CONSTANT_output: first input has type Float but second input has type Half.\n",
      "2024-11-12 23:41:29.394092: W tensorflow/compiler/tf2tensorrt/utils/trt_logger.cc:83] TF-TRT Warning: DefaultLogger IElementWiseLayer with inputs StatefulPartitionedCall/sequential_1_1/mobilenetv2_1.00_224_1/block_10_depthwise_1/depthwise and TRTEngineOp_000_000/_tftrt_constant_-41:CONSTANT_output: first input has type Float but second input has type Half.\n",
      "2024-11-12 23:41:29.394106: W tensorflow/compiler/tf2tensorrt/utils/trt_logger.cc:83] TF-TRT Warning: DefaultLogger IElementWiseLayer with inputs StatefulPartitionedCall/sequential_1_1/mobilenetv2_1.00_224_1/block_10_depthwise_BN_1/batchnorm/mul_1 and TRTEngineOp_000_000/_tftrt_constant_-42:CONSTANT_output: first input has type Float but second input has type Half.\n",
      "2024-11-12 23:41:29.394177: W tensorflow/compiler/tf2tensorrt/utils/trt_logger.cc:83] TF-TRT Warning: DefaultLogger IElementWiseLayer with inputs StatefulPartitionedCall/sequential_1_1/mobilenetv2_1.00_224_1/block_10_project_BN_1/batchnorm/mul_1 and TRTEngineOp_000_000/_tftrt_constant_-43:CONSTANT_output: first input has type Float but second input has type Half.\n",
      "2024-11-12 23:41:29.394268: W tensorflow/compiler/tf2tensorrt/utils/trt_logger.cc:83] TF-TRT Warning: DefaultLogger IElementWiseLayer with inputs StatefulPartitionedCall/sequential_1_1/mobilenetv2_1.00_224_1/block_11_expand_BN_1/batchnorm/mul_1 and TRTEngineOp_000_000/_tftrt_constant_-44:CONSTANT_output: first input has type Float but second input has type Half.\n",
      "2024-11-12 23:41:29.394299: W tensorflow/compiler/tf2tensorrt/utils/trt_logger.cc:83] TF-TRT Warning: DefaultLogger IElementWiseLayer with inputs StatefulPartitionedCall/sequential_1_1/mobilenetv2_1.00_224_1/block_11_depthwise_1/depthwise and TRTEngineOp_000_000/_tftrt_constant_-45:CONSTANT_output: first input has type Float but second input has type Half.\n",
      "2024-11-12 23:41:29.394314: W tensorflow/compiler/tf2tensorrt/utils/trt_logger.cc:83] TF-TRT Warning: DefaultLogger IElementWiseLayer with inputs StatefulPartitionedCall/sequential_1_1/mobilenetv2_1.00_224_1/block_11_depthwise_BN_1/batchnorm/mul_1 and TRTEngineOp_000_000/_tftrt_constant_-46:CONSTANT_output: first input has type Float but second input has type Half.\n",
      "2024-11-12 23:41:29.394410: W tensorflow/compiler/tf2tensorrt/utils/trt_logger.cc:83] TF-TRT Warning: DefaultLogger IElementWiseLayer with inputs StatefulPartitionedCall/sequential_1_1/mobilenetv2_1.00_224_1/block_11_project_BN_1/batchnorm/mul_1 and TRTEngineOp_000_000/_tftrt_constant_-47:CONSTANT_output: first input has type Float but second input has type Half.\n",
      "2024-11-12 23:41:29.394509: W tensorflow/compiler/tf2tensorrt/utils/trt_logger.cc:83] TF-TRT Warning: DefaultLogger IElementWiseLayer with inputs StatefulPartitionedCall/sequential_1_1/mobilenetv2_1.00_224_1/block_12_expand_BN_1/batchnorm/mul_1 and TRTEngineOp_000_000/_tftrt_constant_-48:CONSTANT_output: first input has type Float but second input has type Half.\n",
      "2024-11-12 23:41:29.394540: W tensorflow/compiler/tf2tensorrt/utils/trt_logger.cc:83] TF-TRT Warning: DefaultLogger IElementWiseLayer with inputs StatefulPartitionedCall/sequential_1_1/mobilenetv2_1.00_224_1/block_12_depthwise_1/depthwise and TRTEngineOp_000_000/_tftrt_constant_-49:CONSTANT_output: first input has type Float but second input has type Half.\n",
      "2024-11-12 23:41:29.394554: W tensorflow/compiler/tf2tensorrt/utils/trt_logger.cc:83] TF-TRT Warning: DefaultLogger IElementWiseLayer with inputs StatefulPartitionedCall/sequential_1_1/mobilenetv2_1.00_224_1/block_12_depthwise_BN_1/batchnorm/mul_1 and TRTEngineOp_000_000/_tftrt_constant_-50:CONSTANT_output: first input has type Float but second input has type Half.\n",
      "2024-11-12 23:41:29.394647: W tensorflow/compiler/tf2tensorrt/utils/trt_logger.cc:83] TF-TRT Warning: DefaultLogger IElementWiseLayer with inputs StatefulPartitionedCall/sequential_1_1/mobilenetv2_1.00_224_1/block_12_project_BN_1/batchnorm/mul_1 and TRTEngineOp_000_000/_tftrt_constant_-51:CONSTANT_output: first input has type Float but second input has type Half.\n",
      "2024-11-12 23:41:29.394747: W tensorflow/compiler/tf2tensorrt/utils/trt_logger.cc:83] TF-TRT Warning: DefaultLogger IElementWiseLayer with inputs StatefulPartitionedCall/sequential_1_1/mobilenetv2_1.00_224_1/block_13_expand_BN_1/batchnorm/mul_1 and TRTEngineOp_000_000/_tftrt_constant_-52:CONSTANT_output: first input has type Float but second input has type Half.\n",
      "2024-11-12 23:41:29.394787: W tensorflow/compiler/tf2tensorrt/utils/trt_logger.cc:83] TF-TRT Warning: DefaultLogger IElementWiseLayer with inputs StatefulPartitionedCall/sequential_1_1/mobilenetv2_1.00_224_1/block_13_depthwise_1/depthwise and TRTEngineOp_000_000/_tftrt_constant_-53:CONSTANT_output: first input has type Float but second input has type Half.\n",
      "2024-11-12 23:41:29.394801: W tensorflow/compiler/tf2tensorrt/utils/trt_logger.cc:83] TF-TRT Warning: DefaultLogger IElementWiseLayer with inputs StatefulPartitionedCall/sequential_1_1/mobilenetv2_1.00_224_1/block_13_depthwise_BN_1/batchnorm/mul_1 and TRTEngineOp_000_000/_tftrt_constant_-54:CONSTANT_output: first input has type Float but second input has type Half.\n",
      "2024-11-12 23:41:29.394949: W tensorflow/compiler/tf2tensorrt/utils/trt_logger.cc:83] TF-TRT Warning: DefaultLogger IElementWiseLayer with inputs StatefulPartitionedCall/sequential_1_1/mobilenetv2_1.00_224_1/block_13_project_BN_1/batchnorm/mul_1 and TRTEngineOp_000_000/_tftrt_constant_-55:CONSTANT_output: first input has type Float but second input has type Half.\n",
      "2024-11-12 23:41:29.395191: W tensorflow/compiler/tf2tensorrt/utils/trt_logger.cc:83] TF-TRT Warning: DefaultLogger IElementWiseLayer with inputs StatefulPartitionedCall/sequential_1_1/mobilenetv2_1.00_224_1/block_14_expand_BN_1/batchnorm/mul_1 and TRTEngineOp_000_000/_tftrt_constant_-56:CONSTANT_output: first input has type Float but second input has type Half.\n",
      "2024-11-12 23:41:29.395225: W tensorflow/compiler/tf2tensorrt/utils/trt_logger.cc:83] TF-TRT Warning: DefaultLogger IElementWiseLayer with inputs StatefulPartitionedCall/sequential_1_1/mobilenetv2_1.00_224_1/block_14_depthwise_1/depthwise and TRTEngineOp_000_000/_tftrt_constant_-57:CONSTANT_output: first input has type Float but second input has type Half.\n",
      "2024-11-12 23:41:29.395239: W tensorflow/compiler/tf2tensorrt/utils/trt_logger.cc:83] TF-TRT Warning: DefaultLogger IElementWiseLayer with inputs StatefulPartitionedCall/sequential_1_1/mobilenetv2_1.00_224_1/block_14_depthwise_BN_1/batchnorm/mul_1 and TRTEngineOp_000_000/_tftrt_constant_-58:CONSTANT_output: first input has type Float but second input has type Half.\n",
      "2024-11-12 23:41:29.395467: W tensorflow/compiler/tf2tensorrt/utils/trt_logger.cc:83] TF-TRT Warning: DefaultLogger IElementWiseLayer with inputs StatefulPartitionedCall/sequential_1_1/mobilenetv2_1.00_224_1/block_14_project_BN_1/batchnorm/mul_1 and TRTEngineOp_000_000/_tftrt_constant_-59:CONSTANT_output: first input has type Float but second input has type Half.\n",
      "2024-11-12 23:41:29.395707: W tensorflow/compiler/tf2tensorrt/utils/trt_logger.cc:83] TF-TRT Warning: DefaultLogger IElementWiseLayer with inputs StatefulPartitionedCall/sequential_1_1/mobilenetv2_1.00_224_1/block_15_expand_BN_1/batchnorm/mul_1 and TRTEngineOp_000_000/_tftrt_constant_-60:CONSTANT_output: first input has type Float but second input has type Half.\n",
      "2024-11-12 23:41:29.395742: W tensorflow/compiler/tf2tensorrt/utils/trt_logger.cc:83] TF-TRT Warning: DefaultLogger IElementWiseLayer with inputs StatefulPartitionedCall/sequential_1_1/mobilenetv2_1.00_224_1/block_15_depthwise_1/depthwise and TRTEngineOp_000_000/_tftrt_constant_-61:CONSTANT_output: first input has type Float but second input has type Half.\n",
      "2024-11-12 23:41:29.395757: W tensorflow/compiler/tf2tensorrt/utils/trt_logger.cc:83] TF-TRT Warning: DefaultLogger IElementWiseLayer with inputs StatefulPartitionedCall/sequential_1_1/mobilenetv2_1.00_224_1/block_15_depthwise_BN_1/batchnorm/mul_1 and TRTEngineOp_000_000/_tftrt_constant_-62:CONSTANT_output: first input has type Float but second input has type Half.\n",
      "2024-11-12 23:41:29.395986: W tensorflow/compiler/tf2tensorrt/utils/trt_logger.cc:83] TF-TRT Warning: DefaultLogger IElementWiseLayer with inputs StatefulPartitionedCall/sequential_1_1/mobilenetv2_1.00_224_1/block_15_project_BN_1/batchnorm/mul_1 and TRTEngineOp_000_000/_tftrt_constant_-63:CONSTANT_output: first input has type Float but second input has type Half.\n",
      "2024-11-12 23:41:29.396229: W tensorflow/compiler/tf2tensorrt/utils/trt_logger.cc:83] TF-TRT Warning: DefaultLogger IElementWiseLayer with inputs StatefulPartitionedCall/sequential_1_1/mobilenetv2_1.00_224_1/block_16_expand_BN_1/batchnorm/mul_1 and TRTEngineOp_000_000/_tftrt_constant_-64:CONSTANT_output: first input has type Float but second input has type Half.\n",
      "2024-11-12 23:41:29.396267: W tensorflow/compiler/tf2tensorrt/utils/trt_logger.cc:83] TF-TRT Warning: DefaultLogger IElementWiseLayer with inputs StatefulPartitionedCall/sequential_1_1/mobilenetv2_1.00_224_1/block_16_depthwise_1/depthwise and TRTEngineOp_000_000/_tftrt_constant_-65:CONSTANT_output: first input has type Float but second input has type Half.\n",
      "2024-11-12 23:41:29.396281: W tensorflow/compiler/tf2tensorrt/utils/trt_logger.cc:83] TF-TRT Warning: DefaultLogger IElementWiseLayer with inputs StatefulPartitionedCall/sequential_1_1/mobilenetv2_1.00_224_1/block_16_depthwise_BN_1/batchnorm/mul_1 and TRTEngineOp_000_000/_tftrt_constant_-66:CONSTANT_output: first input has type Float but second input has type Half.\n",
      "2024-11-12 23:41:29.396718: W tensorflow/compiler/tf2tensorrt/utils/trt_logger.cc:83] TF-TRT Warning: DefaultLogger IElementWiseLayer with inputs StatefulPartitionedCall/sequential_1_1/mobilenetv2_1.00_224_1/block_16_project_BN_1/batchnorm/mul_1 and TRTEngineOp_000_000/_tftrt_constant_-67:CONSTANT_output: first input has type Float but second input has type Half.\n",
      "2024-11-12 23:41:29.397518: I tensorflow/compiler/tf2tensorrt/convert/convert_nodes.cc:1382] [TF-TRT] Sparse compute capability: enabled.\n",
      "2024-11-12 23:41:29.425262: E tensorflow/compiler/tf2tensorrt/utils/trt_logger.cc:87] DefaultLogger Error Code: 9: Skipping tactic 0x0000000000000000 due to exception out of memory\n",
      "2024-11-12 23:41:29.717320: E tensorflow/compiler/tf2tensorrt/utils/trt_logger.cc:87] DefaultLogger Error Code: 9: Skipping tactic 0xa31d27de74b895ff due to exception Cask convolution execution\n",
      "2024-11-12 23:41:29.961279: E tensorflow/compiler/tf2tensorrt/utils/trt_logger.cc:87] DefaultLogger Error Code: 9: Skipping tactic 0xa31d27de74b895ff due to exception Cask convolution execution\n",
      "2024-11-12 23:41:30.205651: E tensorflow/compiler/tf2tensorrt/utils/trt_logger.cc:87] DefaultLogger Error Code: 9: Skipping tactic 0xa31d27de74b895ff due to exception Cask convolution execution\n",
      "2024-11-12 23:41:30.695737: E tensorflow/compiler/tf2tensorrt/utils/trt_logger.cc:87] DefaultLogger Error Code: 9: Skipping tactic 0xa31d27de74b895ff due to exception Cask convolution execution\n",
      "2024-11-12 23:41:31.127214: E tensorflow/compiler/tf2tensorrt/utils/trt_logger.cc:87] DefaultLogger [defaultAllocator.cpp::allocateAsync::48] Error Code 1: Cuda Runtime (out of memory)\n",
      "2024-11-12 23:41:31.127235: W tensorflow/compiler/tf2tensorrt/utils/trt_logger.cc:83] TF-TRT Warning: DefaultLogger Requested amount of GPU memory (1024 bytes) could not be allocated. There may not be enough free memory for allocation to succeed.\n",
      "2024-11-12 23:41:31.156952: E tensorflow/compiler/tf2tensorrt/utils/trt_logger.cc:87] DefaultLogger [wtsEngineRtUtils.cpp::executeWtsEngine::161] Error Code 2: OutOfMemory (Requested size was 1024 bytes.)\n",
      "2024-11-12 23:41:31.271085: E tensorflow/compiler/tf2tensorrt/kernels/trt_engine_op.cc:1482] Calibration failed: INTERNAL: Failed to build TensorRT serialized network\n"
     ]
    },
    {
     "name": "stdout",
     "output_type": "stream",
     "text": [
      "WARNING:tensorflow:Warning calibration error for TRTEngineOp_000_000\n"
     ]
    },
    {
     "name": "stderr",
     "output_type": "stream",
     "text": [
      "2024-11-12 23:41:31.344408: W external/local_tsl/tsl/framework/bfc_allocator.cc:296] Allocator (GPU_0_bfc) ran out of memory trying to allocate 955.51MiB with freed_by_count=0. The caller indicates that this is not a failure, but this may mean that there could be performance gains if more memory were available.\n",
      "2024-11-12 23:41:31.375846: W external/local_tsl/tsl/framework/bfc_allocator.cc:296] Allocator (GPU_0_bfc) ran out of memory trying to allocate 1.77GiB with freed_by_count=0. The caller indicates that this is not a failure, but this may mean that there could be performance gains if more memory were available.\n",
      "2024-11-12 23:41:31.469860: W tensorflow/compiler/tf2tensorrt/kernels/trt_engine_op.cc:971] TF-TRT Warning: Engine retrieval for input shapes: [[72,224,224,3]] failed. Running native segment for TRTEngineOp_000_000\n",
      "2024-11-12 23:41:31.509693: W external/local_tsl/tsl/framework/bfc_allocator.cc:296] Allocator (GPU_0_bfc) ran out of memory trying to allocate 838.77MiB with freed_by_count=0. The caller indicates that this is not a failure, but this may mean that there could be performance gains if more memory were available.\n",
      "2024-11-12 23:41:31.526609: W tensorflow/core/framework/local_rendezvous.cc:404] Local rendezvous is aborting with status: OUT_OF_RANGE: End of sequence\n",
      "2024-11-12 23:41:31.530135: W tensorflow/core/framework/local_rendezvous.cc:404] Local rendezvous is aborting with status: UNKNOWN: Calibration table is empty.\n"
     ]
    },
    {
     "name": "stdout",
     "output_type": "stream",
     "text": [
      "INFO:tensorflow:Assets written to: ../tensorRT_model/test_INT8/assets\n"
     ]
    },
    {
     "name": "stderr",
     "output_type": "stream",
     "text": [
      "INFO:tensorflow:Assets written to: ../tensorRT_model/test_INT8/assets\n"
     ]
    },
    {
     "name": "stdout",
     "output_type": "stream",
     "text": [
      "INT8 optimized model saved at ../tensorRT_model/test_INT8\n"
     ]
    }
   ],
   "source": [
    "from tensorflow.python.compiler.tensorrt import trt_convert as trt\n",
    "import tensorflow as tf\n",
    "\n",
    "# Load the SavedModel\n",
    "saved_model_dir = '../best_model/model1/best_f1score_fold'\n",
    "optimized_model_dir = '../tensorRT_model/test_INT8'\n",
    "\n",
    "# Define the conversion parameters\n",
    "conversion_params = trt.DEFAULT_TRT_CONVERSION_PARAMS._replace(\n",
    "    precision_mode=trt.TrtPrecisionMode.INT8,  # Enable INT8 precision\n",
    "    max_workspace_size_bytes=8000000000       # 8GB, adjust based on your GPU memory\n",
    ")\n",
    "\n",
    "# Create a converter\n",
    "converter = trt.TrtGraphConverterV2(\n",
    "    input_saved_model_dir=saved_model_dir,\n",
    "    conversion_params=conversion_params\n",
    ")\n",
    "\n",
    "# Function to provide calibration data (generator)\n",
    "def calibration_input_fn():\n",
    "    dataset = tf.keras.utils.image_dataset_from_directory(\n",
    "        \"../data/Monkeypox_Data/Original_Images\",\n",
    "        image_size=(224, 224),  # Fixed image size must match model input\n",
    "        batch_size=156,\n",
    "        shuffle=True\n",
    "    )\n",
    "    for batch, _ in dataset.take(100):  # Higher batch = better calibration?\n",
    "        batch = batch / 255.0\n",
    "        yield tf.convert_to_tensor(batch)\n",
    "\n",
    "# Convert the model and calibrate\n",
    "converter.convert(calibration_input_fn=calibration_input_fn)\n",
    "\n",
    "# Explicitly define input shapes for TensorRT during `build()`\n",
    "print(\"Building and calibrating the model with fixed input shapes...\")\n",
    "converter.build(input_fn=lambda: [tf.ones((1, 224, 224, 3))])  # Fixed batch size and input shape\n",
    "\n",
    "# Save the optimized model\n",
    "converter.save(optimized_model_dir)\n",
    "print(f\"INT8 optimized model saved at {optimized_model_dir}\")\n"
   ]
  }
 ],
 "metadata": {
  "kernelspec": {
   "display_name": "Python 3",
   "language": "python",
   "name": "capstone"
  },
  "language_info": {
   "codemirror_mode": {
    "name": "ipython",
    "version": 3
   },
   "file_extension": ".py",
   "mimetype": "text/x-python",
   "name": "python",
   "nbconvert_exporter": "python",
   "pygments_lexer": "ipython3",
   "version": "3.12.7"
  }
 },
 "nbformat": 4,
 "nbformat_minor": 4
}
