{
 "cells": [
  {
   "cell_type": "markdown",
   "metadata": {},
   "source": [
    "# TensorRT"
   ]
  },
  {
   "cell_type": "code",
   "execution_count": 1,
   "metadata": {},
   "outputs": [
    {
     "name": "stderr",
     "output_type": "stream",
     "text": [
      "2024-11-14 01:23:14.495955: I tensorflow/core/util/port.cc:113] oneDNN custom operations are on. You may see slightly different numerical results due to floating-point round-off errors from different computation orders. To turn them off, set the environment variable `TF_ENABLE_ONEDNN_OPTS=0`.\n",
      "2024-11-14 01:23:14.531076: I tensorflow/core/platform/cpu_feature_guard.cc:211] This TensorFlow binary is optimized to use available CPU instructions in performance-critical operations.\n",
      "To enable the following instructions: SSE3 SSE4.1 SSE4.2 AVX, in other operations, rebuild TensorFlow with the appropriate compiler flags.\n"
     ]
    }
   ],
   "source": [
    "import pathlib\n",
    "import os\n",
    "import time\n",
    "import numpy as np\n",
    "import tensorflow as tf\n",
    "from sklearn.model_selection import train_test_split\n",
    "from tensorflow.keras import layers\n",
    "\n",
    "# How to create the docker run directly in Lambda2\n",
    "# docker run --gpus all -it --mount type=bind,source=/home/jacob-delgado/Documents/CAPSTONE,target=/workspace/CAPSTONE nvcr.io/nvidia/tensorflow:24.10-tf2-py3"
   ]
  },
  {
   "cell_type": "markdown",
   "metadata": {},
   "source": [
    "### Benchmarking"
   ]
  },
  {
   "cell_type": "code",
   "execution_count": 2,
   "metadata": {},
   "outputs": [
    {
     "name": "stdout",
     "output_type": "stream",
     "text": [
      "[name: \"/device:CPU:0\"\n",
      "device_type: \"CPU\"\n",
      "memory_limit: 268435456\n",
      "locality {\n",
      "}\n",
      "incarnation: 4244699710166956715\n",
      "xla_global_id: -1\n",
      ", name: \"/device:GPU:0\"\n",
      "device_type: \"GPU\"\n",
      "memory_limit: 23077453824\n",
      "locality {\n",
      "  bus_id: 1\n",
      "  links {\n",
      "  }\n",
      "}\n",
      "incarnation: 618463580213304651\n",
      "physical_device_desc: \"device: 0, name: NVIDIA GeForce RTX 4090, pci bus id: 0000:82:00.0, compute capability: 8.9\"\n",
      "xla_global_id: 416903419\n",
      "]\n"
     ]
    },
    {
     "name": "stderr",
     "output_type": "stream",
     "text": [
      "2024-11-14 01:23:15.845548: I external/local_xla/xla/stream_executor/cuda/cuda_executor.cc:998] successful NUMA node read from SysFS had negative value (-1), but there must be at least one NUMA node, so returning NUMA node zero. See more at https://github.com/torvalds/linux/blob/v6.0/Documentation/ABI/testing/sysfs-bus-pci#L344-L355\n",
      "2024-11-14 01:23:15.881959: I external/local_xla/xla/stream_executor/cuda/cuda_executor.cc:998] successful NUMA node read from SysFS had negative value (-1), but there must be at least one NUMA node, so returning NUMA node zero. See more at https://github.com/torvalds/linux/blob/v6.0/Documentation/ABI/testing/sysfs-bus-pci#L344-L355\n",
      "2024-11-14 01:23:15.882149: I external/local_xla/xla/stream_executor/cuda/cuda_executor.cc:998] successful NUMA node read from SysFS had negative value (-1), but there must be at least one NUMA node, so returning NUMA node zero. See more at https://github.com/torvalds/linux/blob/v6.0/Documentation/ABI/testing/sysfs-bus-pci#L344-L355\n",
      "2024-11-14 01:23:15.945959: I external/local_xla/xla/stream_executor/cuda/cuda_executor.cc:998] successful NUMA node read from SysFS had negative value (-1), but there must be at least one NUMA node, so returning NUMA node zero. See more at https://github.com/torvalds/linux/blob/v6.0/Documentation/ABI/testing/sysfs-bus-pci#L344-L355\n",
      "2024-11-14 01:23:15.946113: I external/local_xla/xla/stream_executor/cuda/cuda_executor.cc:998] successful NUMA node read from SysFS had negative value (-1), but there must be at least one NUMA node, so returning NUMA node zero. See more at https://github.com/torvalds/linux/blob/v6.0/Documentation/ABI/testing/sysfs-bus-pci#L344-L355\n",
      "2024-11-14 01:23:15.946239: I external/local_xla/xla/stream_executor/cuda/cuda_executor.cc:998] successful NUMA node read from SysFS had negative value (-1), but there must be at least one NUMA node, so returning NUMA node zero. See more at https://github.com/torvalds/linux/blob/v6.0/Documentation/ABI/testing/sysfs-bus-pci#L344-L355\n",
      "2024-11-14 01:23:15.946353: I tensorflow/core/common_runtime/gpu/gpu_device.cc:1928] Created device /device:GPU:0 with 22008 MB memory:  -> device: 0, name: NVIDIA GeForce RTX 4090, pci bus id: 0000:82:00.0, compute capability: 8.9\n"
     ]
    }
   ],
   "source": [
    "from tensorflow.python.client import device_lib\n",
    "print(device_lib.list_local_devices())"
   ]
  },
  {
   "cell_type": "code",
   "execution_count": 3,
   "metadata": {},
   "outputs": [
    {
     "name": "stdout",
     "output_type": "stream",
     "text": [
      "(10, 5, 0)\n"
     ]
    }
   ],
   "source": [
    "from tensorflow.python.compiler.tensorrt import trt_convert as trt\n",
    "print(trt.trt_utils._pywrap_py_utils.get_linked_tensorrt_version())"
   ]
  },
  {
   "cell_type": "markdown",
   "metadata": {},
   "source": [
    "### Benchmarking"
   ]
  },
  {
   "cell_type": "code",
   "execution_count": 14,
   "metadata": {},
   "outputs": [
    {
     "name": "stdout",
     "output_type": "stream",
     "text": [
      "Found 228 files belonging to 2 classes.\n"
     ]
    }
   ],
   "source": [
    "data_root = pathlib.Path(\"../data/Monkeypox_Data/Original_Images\")    # points to the folder containing the images that will be used for training\n",
    "saved_model_dir = '../best_model/model1/best_f1score_fold'\n",
    "fp32_optimized_model_dir = '../tensorRT_model/fp32'\n",
    "fp16_optimized_model_dir = '../tensorRT_model/fp16'\n",
    "int8_optimized_model_dir = '../tensorRT_model/int8'\n",
    "\n",
    "# hyperparameters\n",
    "batch_size = 32         # size of the batch that will be fed to model\n",
    "img_height = 224        # input image height\n",
    "img_width = 224         # input image width\n",
    "test_size = 0.2\n",
    "\n",
    "# Load dataset without splitting\n",
    "dataset = tf.keras.utils.image_dataset_from_directory(\n",
    "    data_root,                                  # loads images from the data_root directory\n",
    "    image_size=(img_height, img_width),         # resizes all images to (224, 224) pixels\n",
    "    batch_size=batch_size,                      # set the batch size\n",
    "    shuffle=False                                # shufle data when loaded\n",
    ")\n",
    "\n",
    "# normalization_layer = layers.Rescaling(1./255)\n",
    "# dataset = dataset.map(lambda x, y: (normalization_layer(x), y))"
   ]
  },
  {
   "cell_type": "markdown",
   "metadata": {},
   "source": [
    "### Inference and Metrics Setup"
   ]
  },
  {
   "cell_type": "code",
   "execution_count": 15,
   "metadata": {},
   "outputs": [
    {
     "name": "stdout",
     "output_type": "stream",
     "text": [
      "Total Images: 228 \n",
      "Total Labels: 228\n"
     ]
    },
    {
     "name": "stderr",
     "output_type": "stream",
     "text": [
      "2024-11-14 01:27:47.509431: W tensorflow/core/framework/local_rendezvous.cc:404] Local rendezvous is aborting with status: OUT_OF_RANGE: End of sequence\n"
     ]
    }
   ],
   "source": [
    "image_batches, labels = [], []\n",
    "for image_batch, label_batch in dataset:\n",
    "    image_batches.append(image_batch)\n",
    "    labels.append(label_batch)\n",
    "\n",
    "image_batches = np.concatenate(image_batches) # Flatten batches to get all images\n",
    "labels = np.concatenate(labels)               # Flatten batches to get all labels  \n",
    "print(f\"Total Images: {image_batches.shape[0]} \\nTotal Labels: {labels.shape[0]}\")\n",
    "\n",
    "# Split the data into test subset for benchmarking\n",
    "_, X_test, _, Y_test = train_test_split(image_batches, labels, test_size=test_size, random_state=42)\n",
    "\n",
    "\n",
    "X_test = X_test / 255.0\n"
   ]
  },
  {
   "cell_type": "markdown",
   "metadata": {},
   "source": [
    "### Model Size Difference"
   ]
  },
  {
   "cell_type": "code",
   "execution_count": 16,
   "metadata": {},
   "outputs": [],
   "source": [
    "def get_model_size(model_dir):\n",
    "    total_size = 0\n",
    "    for dirpath, _, filenames in os.walk(model_dir):\n",
    "        for f in filenames:\n",
    "            fp = os.path.join(dirpath, f)\n",
    "            total_size += os.path.getsize(fp)\n",
    "    return total_size / (1024 * 1024)  # Convert to MB\n",
    "\n",
    "# original_size = get_model_size(saved_model_dir)\n",
    "# optimized_size = get_model_size(optimized_model_dir)\n",
    "# print(f\"Original Model Size: {original_size:.2f} MB\")\n",
    "# print(f\"Optimized Model Size: {optimized_size:.2f} MB\")\n",
    "# print(f\"Compression Ratio: {original_size / optimized_size:.2f}\")\n"
   ]
  },
  {
   "cell_type": "code",
   "execution_count": 17,
   "metadata": {},
   "outputs": [],
   "source": [
    "import os\n",
    "os.environ[\"TF_GPU_ALLOCATOR\"] = \"cuda_malloc_async\""
   ]
  },
  {
   "cell_type": "markdown",
   "metadata": {},
   "source": [
    "### Run Inference on Models"
   ]
  },
  {
   "cell_type": "code",
   "execution_count": null,
   "metadata": {},
   "outputs": [],
   "source": [
    "def measure_inference_time(model, X_test, batch_size, trials=500):\n",
    "    inference_times = []\n",
    "\n",
    "    num_batches = len(X_test) // batch_size\n",
    "\n",
    "    # Warm-up phase (Run a few trials to initialize the model)\n",
    "    print(f\"Running {50} warm-up trials to initialize the model...\")\n",
    "    for _ in range(50):\n",
    "        for j in range(num_batches):\n",
    "            batch_start = j * batch_size\n",
    "            batch_end = (j + 1) * batch_size\n",
    "            batch_images = X_test[batch_start:batch_end]  # Get a batch of images\n",
    "            dummy_input = tf.convert_to_tensor(batch_images) # Ensure the batch is in tensor format\n",
    "            model.signatures[\"serving_default\"](tf.convert_to_tensor(dummy_input))\n",
    "            tf.keras.backend.clear_session()\n",
    "\n",
    "    print(f\"Running {trials} inference trials on {len(X_test)} test images...\")\n",
    "    for i in range(trials):\n",
    "        start_time = time.perf_counter()\n",
    "\n",
    "        # Loop over the batches of X_test\n",
    "        for j in range(num_batches):\n",
    "            batch_start = j * batch_size\n",
    "            batch_end = (j + 1) * batch_size\n",
    "            batch_images = X_test[batch_start:batch_end]  # Get a batch of images\n",
    "            inputs = tf.convert_to_tensor(batch_images) # Ensure the batch is in tensor format\n",
    "\n",
    "            # Run inference for the batch\n",
    "            model.signatures[\"serving_default\"](inputs)  # Perform inference directly\n",
    "            tf.keras.backend.clear_session()\n",
    "\n",
    "        end_time = time.perf_counter()\n",
    "        inference_time = end_time - start_time\n",
    "        inference_times.append(inference_time)\n",
    "\n",
    "        if i % 100 == 0:\n",
    "            avg_inference = np.mean(inference_times)  # Average inference time per trial\n",
    "            print(f\"Step {i}: average inference time = {avg_inference:.6f} seconds\")\n",
    "\n",
    "    tf.keras.backend.clear_session() # Clear to avoid over-allocating memory\n",
    "\n",
    "    # Compute throughput (images per second)\n",
    "    total_time = np.sum(inference_times)\n",
    "    throughput = (trials * len(X_test)) / total_time\n",
    "    return np.mean(inference_times), throughput"
   ]
  },
  {
   "cell_type": "markdown",
   "metadata": {},
   "source": [
    "### Run Metrics on Models"
   ]
  },
  {
   "cell_type": "code",
   "execution_count": 20,
   "metadata": {},
   "outputs": [],
   "source": [
    "from sklearn.metrics import accuracy_score, precision_score, recall_score, f1_score\n",
    "\n",
    "def measure_metrics(model, X_test, Y_test, batch_size):\n",
    "    print(f\"Evaluating metrics on {len(X_test)} test images...\")\n",
    "    \n",
    "    num_batches = len(X_test) // batch_size\n",
    "    all_predicted_classes = []\n",
    "\n",
    "    # Loop over the test dataset in batches\n",
    "    for j in range(num_batches):\n",
    "        batch_start = j * batch_size\n",
    "        batch_end = (j + 1) * batch_size\n",
    "        batch_images = X_test[batch_start:batch_end]\n",
    "        inputs = tf.convert_to_tensor(batch_images)  # Convert batch to tensor\n",
    "\n",
    "        # Run predictions\n",
    "        result = model.signatures[\"serving_default\"](inputs)  # Inference\n",
    "        prediction_logits = result[\"output_0\"].numpy()  # Extract logits\n",
    "        probabilities = tf.nn.sigmoid(prediction_logits).numpy()  # Apply sigmoid\n",
    "        predicted_classes = (probabilities > 0.5).astype(int)  # Threshold for binary classification\n",
    "\n",
    "        # Collect predictions\n",
    "        all_predicted_classes.extend(predicted_classes)\n",
    "\n",
    "    # Handle any remaining images that don't fit evenly in batches\n",
    "    remaining_samples = len(X_test) % batch_size\n",
    "    if remaining_samples > 0:\n",
    "        batch_images = X_test[-remaining_samples:]\n",
    "        inputs = tf.convert_to_tensor(batch_images)\n",
    "        result = model.signatures[\"serving_default\"](inputs)\n",
    "        prediction_logits = result[\"output_0\"].numpy()\n",
    "        probabilities = tf.nn.sigmoid(prediction_logits).numpy()\n",
    "        predicted_classes = (probabilities > 0.5).astype(int)\n",
    "        all_predicted_classes.extend(predicted_classes)\n",
    "\n",
    "    # Flatten predictions and labels to ensure they are 1D arrays\n",
    "    all_predicted_classes = np.array(all_predicted_classes).flatten()\n",
    "    Y_test = np.array(Y_test).flatten()\n",
    "\n",
    "    # Ensure the number of predictions matches the number of ground truth labels\n",
    "    if len(all_predicted_classes) != len(Y_test):\n",
    "        raise ValueError(f\"Number of predicted classes ({len(all_predicted_classes)}) \"\n",
    "                         f\"does not match the number of ground truth labels ({len(Y_test)}).\")\n",
    "\n",
    "    # Calculate metrics\n",
    "    accuracy = accuracy_score(Y_test, all_predicted_classes)\n",
    "    precision = precision_score(Y_test, all_predicted_classes, average=\"binary\")\n",
    "    recall = recall_score(Y_test, all_predicted_classes, average=\"binary\")\n",
    "    f1 = f1_score(Y_test, all_predicted_classes, average=\"binary\")\n",
    "\n",
    "    # Output metrics\n",
    "    metrics_dict = {\n",
    "        \"accuracy\": accuracy,\n",
    "        \"precision\": precision,\n",
    "        \"recall\": recall,\n",
    "        \"f1_score\": f1,\n",
    "    }\n",
    "\n",
    "    print(f\"Metrics: {metrics_dict}\")\n",
    "    return metrics_dict"
   ]
  },
  {
   "cell_type": "markdown",
   "metadata": {},
   "source": [
    "### Perform Benchmarking"
   ]
  },
  {
   "cell_type": "code",
   "execution_count": 11,
   "metadata": {},
   "outputs": [
    {
     "name": "stdout",
     "output_type": "stream",
     "text": [
      "Checking inference time for Original model\n",
      "Running 50 warm-up trials to initialize the model...\n"
     ]
    },
    {
     "name": "stderr",
     "output_type": "stream",
     "text": [
      "2024-11-14 01:23:19.520023: I external/local_xla/xla/stream_executor/cuda/cuda_dnn.cc:465] Loaded cuDNN version 90500\n"
     ]
    },
    {
     "name": "stdout",
     "output_type": "stream",
     "text": [
      "Running 500 inference trials on 46 test images...\n",
      "Step 0: average inference time = 0.201512 seconds\n",
      "Step 100: average inference time = 0.205449 seconds\n",
      "Step 200: average inference time = 0.203849 seconds\n",
      "Step 300: average inference time = 0.200200 seconds\n",
      "Step 400: average inference time = 0.198768 seconds\n",
      "Evaluating metrics on 46 test images...\n",
      "Metrics: {'accuracy': 0.9782608695652174, 'precision': 0.967741935483871, 'recall': 1.0, 'f1_score': 0.9836065573770492}\n",
      "Checking inference time for FP32 model\n",
      "Running 50 warm-up trials to initialize the model...\n"
     ]
    },
    {
     "name": "stderr",
     "output_type": "stream",
     "text": [
      "2024-11-14 01:25:16.847908: I tensorflow/compiler/tf2tensorrt/common/utils.cc:120] Linked TensorRT version: 10.5.0\n",
      "2024-11-14 01:25:16.847930: I tensorflow/compiler/tf2tensorrt/common/utils.cc:122] Loaded TensorRT version: 10.5.0\n",
      "2024-11-14 01:25:18.822251: I tensorflow/compiler/tf2tensorrt/convert/convert_nodes.cc:1382] [TF-TRT] Sparse compute capability: enabled.\n"
     ]
    },
    {
     "name": "stdout",
     "output_type": "stream",
     "text": [
      "Running 500 inference trials on 46 test images...\n",
      "Step 0: average inference time = 0.048251 seconds\n",
      "Step 100: average inference time = 0.044434 seconds\n",
      "Step 200: average inference time = 0.044480 seconds\n",
      "Step 300: average inference time = 0.044185 seconds\n",
      "Step 400: average inference time = 0.044369 seconds\n",
      "Evaluating metrics on 46 test images...\n",
      "Metrics: {'accuracy': 0.9782608695652174, 'precision': 0.967741935483871, 'recall': 1.0, 'f1_score': 0.9836065573770492}\n",
      "Checking inference time for FP16 model\n",
      "Running 50 warm-up trials to initialize the model...\n"
     ]
    },
    {
     "name": "stderr",
     "output_type": "stream",
     "text": [
      "2024-11-14 01:25:57.498172: W tensorflow/compiler/tf2tensorrt/kernels/trt_engine_op.cc:971] TF-TRT Warning: Engine retrieval for input shapes: [[14,224,224,3]] failed. Running native segment for PartitionedCall/TRTEngineOp_000_000\n",
      "2024-11-14 01:25:59.487342: W tensorflow/compiler/tf2tensorrt/utils/trt_logger.cc:83] TF-TRT Warning: DefaultLogger IElementWiseLayer with inputs StatefulPartitionedCall/sequential_1_1/mobilenetv2_1.00_224_1/bn_Conv1_1/batchnorm/mul_1 and PartitionedCall/TRTEngineOp_001_000/_tftrt_constant_-0:CONSTANT_output: first input has type Float but second input has type Half.\n",
      "2024-11-14 01:25:59.487420: W tensorflow/compiler/tf2tensorrt/utils/trt_logger.cc:83] TF-TRT Warning: DefaultLogger IElementWiseLayer with inputs StatefulPartitionedCall/sequential_1_1/mobilenetv2_1.00_224_1/expanded_conv_depthwise_1/depthwise and PartitionedCall/TRTEngineOp_001_000/_tftrt_constant_-1:CONSTANT_output: first input has type Float but second input has type Half.\n",
      "2024-11-14 01:25:59.487444: W tensorflow/compiler/tf2tensorrt/utils/trt_logger.cc:83] TF-TRT Warning: DefaultLogger IElementWiseLayer with inputs StatefulPartitionedCall/sequential_1_1/mobilenetv2_1.00_224_1/expanded_conv_depthwise_BN_1/batchnorm/mul_1 and PartitionedCall/TRTEngineOp_001_000/_tftrt_constant_-2:CONSTANT_output: first input has type Float but second input has type Half.\n",
      "2024-11-14 01:25:59.487487: W tensorflow/compiler/tf2tensorrt/utils/trt_logger.cc:83] TF-TRT Warning: DefaultLogger IElementWiseLayer with inputs StatefulPartitionedCall/sequential_1_1/mobilenetv2_1.00_224_1/expanded_conv_project_BN_1/batchnorm/mul_1 and PartitionedCall/TRTEngineOp_001_000/_tftrt_constant_-3:CONSTANT_output: first input has type Float but second input has type Half.\n",
      "2024-11-14 01:25:59.487525: W tensorflow/compiler/tf2tensorrt/utils/trt_logger.cc:83] TF-TRT Warning: DefaultLogger IElementWiseLayer with inputs StatefulPartitionedCall/sequential_1_1/mobilenetv2_1.00_224_1/block_1_expand_BN_1/batchnorm/mul_1 and PartitionedCall/TRTEngineOp_001_000/_tftrt_constant_-4:CONSTANT_output: first input has type Float but second input has type Half.\n",
      "2024-11-14 01:25:59.487585: W tensorflow/compiler/tf2tensorrt/utils/trt_logger.cc:83] TF-TRT Warning: DefaultLogger IElementWiseLayer with inputs StatefulPartitionedCall/sequential_1_1/mobilenetv2_1.00_224_1/block_1_depthwise_1/depthwise and PartitionedCall/TRTEngineOp_001_000/_tftrt_constant_-5:CONSTANT_output: first input has type Float but second input has type Half.\n",
      "2024-11-14 01:25:59.487607: W tensorflow/compiler/tf2tensorrt/utils/trt_logger.cc:83] TF-TRT Warning: DefaultLogger IElementWiseLayer with inputs StatefulPartitionedCall/sequential_1_1/mobilenetv2_1.00_224_1/block_1_depthwise_BN_1/batchnorm/mul_1 and PartitionedCall/TRTEngineOp_001_000/_tftrt_constant_-6:CONSTANT_output: first input has type Float but second input has type Half.\n",
      "2024-11-14 01:25:59.487664: W tensorflow/compiler/tf2tensorrt/utils/trt_logger.cc:83] TF-TRT Warning: DefaultLogger IElementWiseLayer with inputs StatefulPartitionedCall/sequential_1_1/mobilenetv2_1.00_224_1/block_1_project_BN_1/batchnorm/mul_1 and PartitionedCall/TRTEngineOp_001_000/_tftrt_constant_-7:CONSTANT_output: first input has type Float but second input has type Half.\n",
      "2024-11-14 01:25:59.487703: W tensorflow/compiler/tf2tensorrt/utils/trt_logger.cc:83] TF-TRT Warning: DefaultLogger IElementWiseLayer with inputs StatefulPartitionedCall/sequential_1_1/mobilenetv2_1.00_224_1/block_2_expand_BN_1/batchnorm/mul_1 and PartitionedCall/TRTEngineOp_001_000/_tftrt_constant_-8:CONSTANT_output: first input has type Float but second input has type Half.\n",
      "2024-11-14 01:25:59.487747: W tensorflow/compiler/tf2tensorrt/utils/trt_logger.cc:83] TF-TRT Warning: DefaultLogger IElementWiseLayer with inputs StatefulPartitionedCall/sequential_1_1/mobilenetv2_1.00_224_1/block_2_depthwise_1/depthwise and PartitionedCall/TRTEngineOp_001_000/_tftrt_constant_-9:CONSTANT_output: first input has type Float but second input has type Half.\n",
      "2024-11-14 01:25:59.487762: W tensorflow/compiler/tf2tensorrt/utils/trt_logger.cc:83] TF-TRT Warning: DefaultLogger IElementWiseLayer with inputs StatefulPartitionedCall/sequential_1_1/mobilenetv2_1.00_224_1/block_2_depthwise_BN_1/batchnorm/mul_1 and PartitionedCall/TRTEngineOp_001_000/_tftrt_constant_-10:CONSTANT_output: first input has type Float but second input has type Half.\n",
      "2024-11-14 01:25:59.487793: W tensorflow/compiler/tf2tensorrt/utils/trt_logger.cc:83] TF-TRT Warning: DefaultLogger IElementWiseLayer with inputs StatefulPartitionedCall/sequential_1_1/mobilenetv2_1.00_224_1/block_2_project_BN_1/batchnorm/mul_1 and PartitionedCall/TRTEngineOp_001_000/_tftrt_constant_-11:CONSTANT_output: first input has type Float but second input has type Half.\n",
      "2024-11-14 01:25:59.487829: W tensorflow/compiler/tf2tensorrt/utils/trt_logger.cc:83] TF-TRT Warning: DefaultLogger IElementWiseLayer with inputs StatefulPartitionedCall/sequential_1_1/mobilenetv2_1.00_224_1/block_3_expand_BN_1/batchnorm/mul_1 and PartitionedCall/TRTEngineOp_001_000/_tftrt_constant_-12:CONSTANT_output: first input has type Float but second input has type Half.\n",
      "2024-11-14 01:25:59.487865: W tensorflow/compiler/tf2tensorrt/utils/trt_logger.cc:83] TF-TRT Warning: DefaultLogger IElementWiseLayer with inputs StatefulPartitionedCall/sequential_1_1/mobilenetv2_1.00_224_1/block_3_depthwise_1/depthwise and PartitionedCall/TRTEngineOp_001_000/_tftrt_constant_-13:CONSTANT_output: first input has type Float but second input has type Half.\n",
      "2024-11-14 01:25:59.487879: W tensorflow/compiler/tf2tensorrt/utils/trt_logger.cc:83] TF-TRT Warning: DefaultLogger IElementWiseLayer with inputs StatefulPartitionedCall/sequential_1_1/mobilenetv2_1.00_224_1/block_3_depthwise_BN_1/batchnorm/mul_1 and PartitionedCall/TRTEngineOp_001_000/_tftrt_constant_-14:CONSTANT_output: first input has type Float but second input has type Half.\n",
      "2024-11-14 01:25:59.487914: W tensorflow/compiler/tf2tensorrt/utils/trt_logger.cc:83] TF-TRT Warning: DefaultLogger IElementWiseLayer with inputs StatefulPartitionedCall/sequential_1_1/mobilenetv2_1.00_224_1/block_3_project_BN_1/batchnorm/mul_1 and PartitionedCall/TRTEngineOp_001_000/_tftrt_constant_-15:CONSTANT_output: first input has type Float but second input has type Half.\n",
      "2024-11-14 01:25:59.487945: W tensorflow/compiler/tf2tensorrt/utils/trt_logger.cc:83] TF-TRT Warning: DefaultLogger IElementWiseLayer with inputs StatefulPartitionedCall/sequential_1_1/mobilenetv2_1.00_224_1/block_4_expand_BN_1/batchnorm/mul_1 and PartitionedCall/TRTEngineOp_001_000/_tftrt_constant_-16:CONSTANT_output: first input has type Float but second input has type Half.\n",
      "2024-11-14 01:25:59.487977: W tensorflow/compiler/tf2tensorrt/utils/trt_logger.cc:83] TF-TRT Warning: DefaultLogger IElementWiseLayer with inputs StatefulPartitionedCall/sequential_1_1/mobilenetv2_1.00_224_1/block_4_depthwise_1/depthwise and PartitionedCall/TRTEngineOp_001_000/_tftrt_constant_-17:CONSTANT_output: first input has type Float but second input has type Half.\n",
      "2024-11-14 01:25:59.487991: W tensorflow/compiler/tf2tensorrt/utils/trt_logger.cc:83] TF-TRT Warning: DefaultLogger IElementWiseLayer with inputs StatefulPartitionedCall/sequential_1_1/mobilenetv2_1.00_224_1/block_4_depthwise_BN_1/batchnorm/mul_1 and PartitionedCall/TRTEngineOp_001_000/_tftrt_constant_-18:CONSTANT_output: first input has type Float but second input has type Half.\n",
      "2024-11-14 01:25:59.488026: W tensorflow/compiler/tf2tensorrt/utils/trt_logger.cc:83] TF-TRT Warning: DefaultLogger IElementWiseLayer with inputs StatefulPartitionedCall/sequential_1_1/mobilenetv2_1.00_224_1/block_4_project_BN_1/batchnorm/mul_1 and PartitionedCall/TRTEngineOp_001_000/_tftrt_constant_-19:CONSTANT_output: first input has type Float but second input has type Half.\n",
      "2024-11-14 01:25:59.488069: W tensorflow/compiler/tf2tensorrt/utils/trt_logger.cc:83] TF-TRT Warning: DefaultLogger IElementWiseLayer with inputs StatefulPartitionedCall/sequential_1_1/mobilenetv2_1.00_224_1/block_5_expand_BN_1/batchnorm/mul_1 and PartitionedCall/TRTEngineOp_001_000/_tftrt_constant_-20:CONSTANT_output: first input has type Float but second input has type Half.\n",
      "2024-11-14 01:25:59.488098: W tensorflow/compiler/tf2tensorrt/utils/trt_logger.cc:83] TF-TRT Warning: DefaultLogger IElementWiseLayer with inputs StatefulPartitionedCall/sequential_1_1/mobilenetv2_1.00_224_1/block_5_depthwise_1/depthwise and PartitionedCall/TRTEngineOp_001_000/_tftrt_constant_-21:CONSTANT_output: first input has type Float but second input has type Half.\n",
      "2024-11-14 01:25:59.488111: W tensorflow/compiler/tf2tensorrt/utils/trt_logger.cc:83] TF-TRT Warning: DefaultLogger IElementWiseLayer with inputs StatefulPartitionedCall/sequential_1_1/mobilenetv2_1.00_224_1/block_5_depthwise_BN_1/batchnorm/mul_1 and PartitionedCall/TRTEngineOp_001_000/_tftrt_constant_-22:CONSTANT_output: first input has type Float but second input has type Half.\n",
      "2024-11-14 01:25:59.488145: W tensorflow/compiler/tf2tensorrt/utils/trt_logger.cc:83] TF-TRT Warning: DefaultLogger IElementWiseLayer with inputs StatefulPartitionedCall/sequential_1_1/mobilenetv2_1.00_224_1/block_5_project_BN_1/batchnorm/mul_1 and PartitionedCall/TRTEngineOp_001_000/_tftrt_constant_-23:CONSTANT_output: first input has type Float but second input has type Half.\n",
      "2024-11-14 01:25:59.488180: W tensorflow/compiler/tf2tensorrt/utils/trt_logger.cc:83] TF-TRT Warning: DefaultLogger IElementWiseLayer with inputs StatefulPartitionedCall/sequential_1_1/mobilenetv2_1.00_224_1/block_6_expand_BN_1/batchnorm/mul_1 and PartitionedCall/TRTEngineOp_001_000/_tftrt_constant_-24:CONSTANT_output: first input has type Float but second input has type Half.\n",
      "2024-11-14 01:25:59.488216: W tensorflow/compiler/tf2tensorrt/utils/trt_logger.cc:83] TF-TRT Warning: DefaultLogger IElementWiseLayer with inputs StatefulPartitionedCall/sequential_1_1/mobilenetv2_1.00_224_1/block_6_depthwise_1/depthwise and PartitionedCall/TRTEngineOp_001_000/_tftrt_constant_-25:CONSTANT_output: first input has type Float but second input has type Half.\n",
      "2024-11-14 01:25:59.488230: W tensorflow/compiler/tf2tensorrt/utils/trt_logger.cc:83] TF-TRT Warning: DefaultLogger IElementWiseLayer with inputs StatefulPartitionedCall/sequential_1_1/mobilenetv2_1.00_224_1/block_6_depthwise_BN_1/batchnorm/mul_1 and PartitionedCall/TRTEngineOp_001_000/_tftrt_constant_-26:CONSTANT_output: first input has type Float but second input has type Half.\n",
      "2024-11-14 01:25:59.488271: W tensorflow/compiler/tf2tensorrt/utils/trt_logger.cc:83] TF-TRT Warning: DefaultLogger IElementWiseLayer with inputs StatefulPartitionedCall/sequential_1_1/mobilenetv2_1.00_224_1/block_6_project_BN_1/batchnorm/mul_1 and PartitionedCall/TRTEngineOp_001_000/_tftrt_constant_-27:CONSTANT_output: first input has type Float but second input has type Half.\n",
      "2024-11-14 01:25:59.488323: W tensorflow/compiler/tf2tensorrt/utils/trt_logger.cc:83] TF-TRT Warning: DefaultLogger IElementWiseLayer with inputs StatefulPartitionedCall/sequential_1_1/mobilenetv2_1.00_224_1/block_7_expand_BN_1/batchnorm/mul_1 and PartitionedCall/TRTEngineOp_001_000/_tftrt_constant_-28:CONSTANT_output: first input has type Float but second input has type Half.\n",
      "2024-11-14 01:25:59.488354: W tensorflow/compiler/tf2tensorrt/utils/trt_logger.cc:83] TF-TRT Warning: DefaultLogger IElementWiseLayer with inputs StatefulPartitionedCall/sequential_1_1/mobilenetv2_1.00_224_1/block_7_depthwise_1/depthwise and PartitionedCall/TRTEngineOp_001_000/_tftrt_constant_-29:CONSTANT_output: first input has type Float but second input has type Half.\n",
      "2024-11-14 01:25:59.488367: W tensorflow/compiler/tf2tensorrt/utils/trt_logger.cc:83] TF-TRT Warning: DefaultLogger IElementWiseLayer with inputs StatefulPartitionedCall/sequential_1_1/mobilenetv2_1.00_224_1/block_7_depthwise_BN_1/batchnorm/mul_1 and PartitionedCall/TRTEngineOp_001_000/_tftrt_constant_-30:CONSTANT_output: first input has type Float but second input has type Half.\n",
      "2024-11-14 01:25:59.488421: W tensorflow/compiler/tf2tensorrt/utils/trt_logger.cc:83] TF-TRT Warning: DefaultLogger IElementWiseLayer with inputs StatefulPartitionedCall/sequential_1_1/mobilenetv2_1.00_224_1/block_7_project_BN_1/batchnorm/mul_1 and PartitionedCall/TRTEngineOp_001_000/_tftrt_constant_-31:CONSTANT_output: first input has type Float but second input has type Half.\n",
      "2024-11-14 01:25:59.488478: W tensorflow/compiler/tf2tensorrt/utils/trt_logger.cc:83] TF-TRT Warning: DefaultLogger IElementWiseLayer with inputs StatefulPartitionedCall/sequential_1_1/mobilenetv2_1.00_224_1/block_8_expand_BN_1/batchnorm/mul_1 and PartitionedCall/TRTEngineOp_001_000/_tftrt_constant_-32:CONSTANT_output: first input has type Float but second input has type Half.\n",
      "2024-11-14 01:25:59.488507: W tensorflow/compiler/tf2tensorrt/utils/trt_logger.cc:83] TF-TRT Warning: DefaultLogger IElementWiseLayer with inputs StatefulPartitionedCall/sequential_1_1/mobilenetv2_1.00_224_1/block_8_depthwise_1/depthwise and PartitionedCall/TRTEngineOp_001_000/_tftrt_constant_-33:CONSTANT_output: first input has type Float but second input has type Half.\n",
      "2024-11-14 01:25:59.488524: W tensorflow/compiler/tf2tensorrt/utils/trt_logger.cc:83] TF-TRT Warning: DefaultLogger IElementWiseLayer with inputs StatefulPartitionedCall/sequential_1_1/mobilenetv2_1.00_224_1/block_8_depthwise_BN_1/batchnorm/mul_1 and PartitionedCall/TRTEngineOp_001_000/_tftrt_constant_-34:CONSTANT_output: first input has type Float but second input has type Half.\n",
      "2024-11-14 01:25:59.488578: W tensorflow/compiler/tf2tensorrt/utils/trt_logger.cc:83] TF-TRT Warning: DefaultLogger IElementWiseLayer with inputs StatefulPartitionedCall/sequential_1_1/mobilenetv2_1.00_224_1/block_8_project_BN_1/batchnorm/mul_1 and PartitionedCall/TRTEngineOp_001_000/_tftrt_constant_-35:CONSTANT_output: first input has type Float but second input has type Half.\n",
      "2024-11-14 01:25:59.488644: W tensorflow/compiler/tf2tensorrt/utils/trt_logger.cc:83] TF-TRT Warning: DefaultLogger IElementWiseLayer with inputs StatefulPartitionedCall/sequential_1_1/mobilenetv2_1.00_224_1/block_9_expand_BN_1/batchnorm/mul_1 and PartitionedCall/TRTEngineOp_001_000/_tftrt_constant_-36:CONSTANT_output: first input has type Float but second input has type Half.\n",
      "2024-11-14 01:25:59.488674: W tensorflow/compiler/tf2tensorrt/utils/trt_logger.cc:83] TF-TRT Warning: DefaultLogger IElementWiseLayer with inputs StatefulPartitionedCall/sequential_1_1/mobilenetv2_1.00_224_1/block_9_depthwise_1/depthwise and PartitionedCall/TRTEngineOp_001_000/_tftrt_constant_-37:CONSTANT_output: first input has type Float but second input has type Half.\n",
      "2024-11-14 01:25:59.488688: W tensorflow/compiler/tf2tensorrt/utils/trt_logger.cc:83] TF-TRT Warning: DefaultLogger IElementWiseLayer with inputs StatefulPartitionedCall/sequential_1_1/mobilenetv2_1.00_224_1/block_9_depthwise_BN_1/batchnorm/mul_1 and PartitionedCall/TRTEngineOp_001_000/_tftrt_constant_-38:CONSTANT_output: first input has type Float but second input has type Half.\n",
      "2024-11-14 01:25:59.488744: W tensorflow/compiler/tf2tensorrt/utils/trt_logger.cc:83] TF-TRT Warning: DefaultLogger IElementWiseLayer with inputs StatefulPartitionedCall/sequential_1_1/mobilenetv2_1.00_224_1/block_9_project_BN_1/batchnorm/mul_1 and PartitionedCall/TRTEngineOp_001_000/_tftrt_constant_-39:CONSTANT_output: first input has type Float but second input has type Half.\n",
      "2024-11-14 01:25:59.488800: W tensorflow/compiler/tf2tensorrt/utils/trt_logger.cc:83] TF-TRT Warning: DefaultLogger IElementWiseLayer with inputs StatefulPartitionedCall/sequential_1_1/mobilenetv2_1.00_224_1/block_10_expand_BN_1/batchnorm/mul_1 and PartitionedCall/TRTEngineOp_001_000/_tftrt_constant_-40:CONSTANT_output: first input has type Float but second input has type Half.\n",
      "2024-11-14 01:25:59.488828: W tensorflow/compiler/tf2tensorrt/utils/trt_logger.cc:83] TF-TRT Warning: DefaultLogger IElementWiseLayer with inputs StatefulPartitionedCall/sequential_1_1/mobilenetv2_1.00_224_1/block_10_depthwise_1/depthwise and PartitionedCall/TRTEngineOp_001_000/_tftrt_constant_-41:CONSTANT_output: first input has type Float but second input has type Half.\n",
      "2024-11-14 01:25:59.488842: W tensorflow/compiler/tf2tensorrt/utils/trt_logger.cc:83] TF-TRT Warning: DefaultLogger IElementWiseLayer with inputs StatefulPartitionedCall/sequential_1_1/mobilenetv2_1.00_224_1/block_10_depthwise_BN_1/batchnorm/mul_1 and PartitionedCall/TRTEngineOp_001_000/_tftrt_constant_-42:CONSTANT_output: first input has type Float but second input has type Half.\n",
      "2024-11-14 01:25:59.488909: W tensorflow/compiler/tf2tensorrt/utils/trt_logger.cc:83] TF-TRT Warning: DefaultLogger IElementWiseLayer with inputs StatefulPartitionedCall/sequential_1_1/mobilenetv2_1.00_224_1/block_10_project_BN_1/batchnorm/mul_1 and PartitionedCall/TRTEngineOp_001_000/_tftrt_constant_-43:CONSTANT_output: first input has type Float but second input has type Half.\n",
      "2024-11-14 01:25:59.488996: W tensorflow/compiler/tf2tensorrt/utils/trt_logger.cc:83] TF-TRT Warning: DefaultLogger IElementWiseLayer with inputs StatefulPartitionedCall/sequential_1_1/mobilenetv2_1.00_224_1/block_11_expand_BN_1/batchnorm/mul_1 and PartitionedCall/TRTEngineOp_001_000/_tftrt_constant_-44:CONSTANT_output: first input has type Float but second input has type Half.\n",
      "2024-11-14 01:25:59.489025: W tensorflow/compiler/tf2tensorrt/utils/trt_logger.cc:83] TF-TRT Warning: DefaultLogger IElementWiseLayer with inputs StatefulPartitionedCall/sequential_1_1/mobilenetv2_1.00_224_1/block_11_depthwise_1/depthwise and PartitionedCall/TRTEngineOp_001_000/_tftrt_constant_-45:CONSTANT_output: first input has type Float but second input has type Half.\n",
      "2024-11-14 01:25:59.489045: W tensorflow/compiler/tf2tensorrt/utils/trt_logger.cc:83] TF-TRT Warning: DefaultLogger IElementWiseLayer with inputs StatefulPartitionedCall/sequential_1_1/mobilenetv2_1.00_224_1/block_11_depthwise_BN_1/batchnorm/mul_1 and PartitionedCall/TRTEngineOp_001_000/_tftrt_constant_-46:CONSTANT_output: first input has type Float but second input has type Half.\n",
      "2024-11-14 01:25:59.489134: W tensorflow/compiler/tf2tensorrt/utils/trt_logger.cc:83] TF-TRT Warning: DefaultLogger IElementWiseLayer with inputs StatefulPartitionedCall/sequential_1_1/mobilenetv2_1.00_224_1/block_11_project_BN_1/batchnorm/mul_1 and PartitionedCall/TRTEngineOp_001_000/_tftrt_constant_-47:CONSTANT_output: first input has type Float but second input has type Half.\n",
      "2024-11-14 01:25:59.489230: W tensorflow/compiler/tf2tensorrt/utils/trt_logger.cc:83] TF-TRT Warning: DefaultLogger IElementWiseLayer with inputs StatefulPartitionedCall/sequential_1_1/mobilenetv2_1.00_224_1/block_12_expand_BN_1/batchnorm/mul_1 and PartitionedCall/TRTEngineOp_001_000/_tftrt_constant_-48:CONSTANT_output: first input has type Float but second input has type Half.\n",
      "2024-11-14 01:25:59.489260: W tensorflow/compiler/tf2tensorrt/utils/trt_logger.cc:83] TF-TRT Warning: DefaultLogger IElementWiseLayer with inputs StatefulPartitionedCall/sequential_1_1/mobilenetv2_1.00_224_1/block_12_depthwise_1/depthwise and PartitionedCall/TRTEngineOp_001_000/_tftrt_constant_-49:CONSTANT_output: first input has type Float but second input has type Half.\n",
      "2024-11-14 01:25:59.489273: W tensorflow/compiler/tf2tensorrt/utils/trt_logger.cc:83] TF-TRT Warning: DefaultLogger IElementWiseLayer with inputs StatefulPartitionedCall/sequential_1_1/mobilenetv2_1.00_224_1/block_12_depthwise_BN_1/batchnorm/mul_1 and PartitionedCall/TRTEngineOp_001_000/_tftrt_constant_-50:CONSTANT_output: first input has type Float but second input has type Half.\n",
      "2024-11-14 01:25:59.489361: W tensorflow/compiler/tf2tensorrt/utils/trt_logger.cc:83] TF-TRT Warning: DefaultLogger IElementWiseLayer with inputs StatefulPartitionedCall/sequential_1_1/mobilenetv2_1.00_224_1/block_12_project_BN_1/batchnorm/mul_1 and PartitionedCall/TRTEngineOp_001_000/_tftrt_constant_-51:CONSTANT_output: first input has type Float but second input has type Half.\n",
      "2024-11-14 01:25:59.489454: W tensorflow/compiler/tf2tensorrt/utils/trt_logger.cc:83] TF-TRT Warning: DefaultLogger IElementWiseLayer with inputs StatefulPartitionedCall/sequential_1_1/mobilenetv2_1.00_224_1/block_13_expand_BN_1/batchnorm/mul_1 and PartitionedCall/TRTEngineOp_001_000/_tftrt_constant_-52:CONSTANT_output: first input has type Float but second input has type Half.\n",
      "2024-11-14 01:25:59.489493: W tensorflow/compiler/tf2tensorrt/utils/trt_logger.cc:83] TF-TRT Warning: DefaultLogger IElementWiseLayer with inputs StatefulPartitionedCall/sequential_1_1/mobilenetv2_1.00_224_1/block_13_depthwise_1/depthwise and PartitionedCall/TRTEngineOp_001_000/_tftrt_constant_-53:CONSTANT_output: first input has type Float but second input has type Half.\n",
      "2024-11-14 01:25:59.489507: W tensorflow/compiler/tf2tensorrt/utils/trt_logger.cc:83] TF-TRT Warning: DefaultLogger IElementWiseLayer with inputs StatefulPartitionedCall/sequential_1_1/mobilenetv2_1.00_224_1/block_13_depthwise_BN_1/batchnorm/mul_1 and PartitionedCall/TRTEngineOp_001_000/_tftrt_constant_-54:CONSTANT_output: first input has type Float but second input has type Half.\n",
      "2024-11-14 01:25:59.489653: W tensorflow/compiler/tf2tensorrt/utils/trt_logger.cc:83] TF-TRT Warning: DefaultLogger IElementWiseLayer with inputs StatefulPartitionedCall/sequential_1_1/mobilenetv2_1.00_224_1/block_13_project_BN_1/batchnorm/mul_1 and PartitionedCall/TRTEngineOp_001_000/_tftrt_constant_-55:CONSTANT_output: first input has type Float but second input has type Half.\n",
      "2024-11-14 01:25:59.489867: W tensorflow/compiler/tf2tensorrt/utils/trt_logger.cc:83] TF-TRT Warning: DefaultLogger IElementWiseLayer with inputs StatefulPartitionedCall/sequential_1_1/mobilenetv2_1.00_224_1/block_14_expand_BN_1/batchnorm/mul_1 and PartitionedCall/TRTEngineOp_001_000/_tftrt_constant_-56:CONSTANT_output: first input has type Float but second input has type Half.\n",
      "2024-11-14 01:25:59.489900: W tensorflow/compiler/tf2tensorrt/utils/trt_logger.cc:83] TF-TRT Warning: DefaultLogger IElementWiseLayer with inputs StatefulPartitionedCall/sequential_1_1/mobilenetv2_1.00_224_1/block_14_depthwise_1/depthwise and PartitionedCall/TRTEngineOp_001_000/_tftrt_constant_-57:CONSTANT_output: first input has type Float but second input has type Half.\n",
      "2024-11-14 01:25:59.489914: W tensorflow/compiler/tf2tensorrt/utils/trt_logger.cc:83] TF-TRT Warning: DefaultLogger IElementWiseLayer with inputs StatefulPartitionedCall/sequential_1_1/mobilenetv2_1.00_224_1/block_14_depthwise_BN_1/batchnorm/mul_1 and PartitionedCall/TRTEngineOp_001_000/_tftrt_constant_-58:CONSTANT_output: first input has type Float but second input has type Half.\n",
      "2024-11-14 01:25:59.490135: W tensorflow/compiler/tf2tensorrt/utils/trt_logger.cc:83] TF-TRT Warning: DefaultLogger IElementWiseLayer with inputs StatefulPartitionedCall/sequential_1_1/mobilenetv2_1.00_224_1/block_14_project_BN_1/batchnorm/mul_1 and PartitionedCall/TRTEngineOp_001_000/_tftrt_constant_-59:CONSTANT_output: first input has type Float but second input has type Half.\n",
      "2024-11-14 01:25:59.490366: W tensorflow/compiler/tf2tensorrt/utils/trt_logger.cc:83] TF-TRT Warning: DefaultLogger IElementWiseLayer with inputs StatefulPartitionedCall/sequential_1_1/mobilenetv2_1.00_224_1/block_15_expand_BN_1/batchnorm/mul_1 and PartitionedCall/TRTEngineOp_001_000/_tftrt_constant_-60:CONSTANT_output: first input has type Float but second input has type Half.\n",
      "2024-11-14 01:25:59.490401: W tensorflow/compiler/tf2tensorrt/utils/trt_logger.cc:83] TF-TRT Warning: DefaultLogger IElementWiseLayer with inputs StatefulPartitionedCall/sequential_1_1/mobilenetv2_1.00_224_1/block_15_depthwise_1/depthwise and PartitionedCall/TRTEngineOp_001_000/_tftrt_constant_-61:CONSTANT_output: first input has type Float but second input has type Half.\n",
      "2024-11-14 01:25:59.490415: W tensorflow/compiler/tf2tensorrt/utils/trt_logger.cc:83] TF-TRT Warning: DefaultLogger IElementWiseLayer with inputs StatefulPartitionedCall/sequential_1_1/mobilenetv2_1.00_224_1/block_15_depthwise_BN_1/batchnorm/mul_1 and PartitionedCall/TRTEngineOp_001_000/_tftrt_constant_-62:CONSTANT_output: first input has type Float but second input has type Half.\n",
      "2024-11-14 01:25:59.490635: W tensorflow/compiler/tf2tensorrt/utils/trt_logger.cc:83] TF-TRT Warning: DefaultLogger IElementWiseLayer with inputs StatefulPartitionedCall/sequential_1_1/mobilenetv2_1.00_224_1/block_15_project_BN_1/batchnorm/mul_1 and PartitionedCall/TRTEngineOp_001_000/_tftrt_constant_-63:CONSTANT_output: first input has type Float but second input has type Half.\n",
      "2024-11-14 01:25:59.490861: W tensorflow/compiler/tf2tensorrt/utils/trt_logger.cc:83] TF-TRT Warning: DefaultLogger IElementWiseLayer with inputs StatefulPartitionedCall/sequential_1_1/mobilenetv2_1.00_224_1/block_16_expand_BN_1/batchnorm/mul_1 and PartitionedCall/TRTEngineOp_001_000/_tftrt_constant_-64:CONSTANT_output: first input has type Float but second input has type Half.\n",
      "2024-11-14 01:25:59.490897: W tensorflow/compiler/tf2tensorrt/utils/trt_logger.cc:83] TF-TRT Warning: DefaultLogger IElementWiseLayer with inputs StatefulPartitionedCall/sequential_1_1/mobilenetv2_1.00_224_1/block_16_depthwise_1/depthwise and PartitionedCall/TRTEngineOp_001_000/_tftrt_constant_-65:CONSTANT_output: first input has type Float but second input has type Half.\n",
      "2024-11-14 01:25:59.490911: W tensorflow/compiler/tf2tensorrt/utils/trt_logger.cc:83] TF-TRT Warning: DefaultLogger IElementWiseLayer with inputs StatefulPartitionedCall/sequential_1_1/mobilenetv2_1.00_224_1/block_16_depthwise_BN_1/batchnorm/mul_1 and PartitionedCall/TRTEngineOp_001_000/_tftrt_constant_-66:CONSTANT_output: first input has type Float but second input has type Half.\n",
      "2024-11-14 01:25:59.491344: W tensorflow/compiler/tf2tensorrt/utils/trt_logger.cc:83] TF-TRT Warning: DefaultLogger IElementWiseLayer with inputs StatefulPartitionedCall/sequential_1_1/mobilenetv2_1.00_224_1/block_16_project_BN_1/batchnorm/mul_1 and PartitionedCall/TRTEngineOp_001_000/_tftrt_constant_-67:CONSTANT_output: first input has type Float but second input has type Half.\n"
     ]
    },
    {
     "name": "stdout",
     "output_type": "stream",
     "text": [
      "Running 500 inference trials on 46 test images...\n",
      "Step 0: average inference time = 0.050435 seconds\n",
      "Step 100: average inference time = 0.047081 seconds\n",
      "Step 200: average inference time = 0.047591 seconds\n",
      "Step 300: average inference time = 0.047936 seconds\n",
      "Step 400: average inference time = 0.047937 seconds\n",
      "Evaluating metrics on 46 test images...\n"
     ]
    },
    {
     "name": "stderr",
     "output_type": "stream",
     "text": [
      "2024-11-14 01:27:01.623305: W tensorflow/compiler/tf2tensorrt/kernels/trt_engine_op.cc:971] TF-TRT Warning: Engine retrieval for input shapes: [[14,224,224,3]] failed. Running native segment for PartitionedCall/TRTEngineOp_001_000\n",
      "2024-11-14 01:27:01.641498: E tensorflow/core/util/util.cc:131] oneDNN supports DT_HALF only on platforms with AVX-512. Falling back to the default Eigen-based implementation if present.\n"
     ]
    },
    {
     "name": "stdout",
     "output_type": "stream",
     "text": [
      "Metrics: {'accuracy': 0.9782608695652174, 'precision': 0.967741935483871, 'recall': 1.0, 'f1_score': 0.9836065573770492}\n",
      "Checking inference time for INT8 model\n",
      "Running 50 warm-up trials to initialize the model...\n"
     ]
    },
    {
     "name": "stderr",
     "output_type": "stream",
     "text": [
      "2024-11-14 01:27:01.917988: W tensorflow/compiler/tf2tensorrt/utils/trt_logger.cc:83] TF-TRT Warning: DefaultLogger Using an engine plan file across different models of devices is not recommended and is likely to affect performance or even cause errors.\n",
      "2024-11-14 01:27:01.979150: W tensorflow/compiler/tf2tensorrt/kernels/trt_engine_op.cc:971] TF-TRT Warning: Engine retrieval for input shapes: [[32,224,224,3]] failed. Running native segment for PartitionedCall/TRTEngineOp_002_000\n",
      "2024-11-14 01:27:02.202723: W tensorflow/compiler/tf2tensorrt/kernels/trt_engine_op.cc:971] TF-TRT Warning: Engine retrieval for input shapes: [[32,224,224,3]] failed. Running native segment for PartitionedCall/TRTEngineOp_002_000\n",
      "2024-11-14 01:27:02.295825: W tensorflow/compiler/tf2tensorrt/kernels/trt_engine_op.cc:971] TF-TRT Warning: Engine retrieval for input shapes: [[32,224,224,3]] failed. Running native segment for PartitionedCall/TRTEngineOp_002_000\n"
     ]
    },
    {
     "name": "stdout",
     "output_type": "stream",
     "text": [
      "Running 500 inference trials on 46 test images...\n",
      "Step 0: average inference time = 0.079859 seconds\n",
      "Step 100: average inference time = 0.081416 seconds\n",
      "Step 200: average inference time = 0.080465 seconds\n",
      "Step 300: average inference time = 0.080600 seconds\n",
      "Step 400: average inference time = 0.081103 seconds\n",
      "Evaluating metrics on 46 test images...\n",
      "Metrics: {'accuracy': 0.9782608695652174, 'precision': 0.967741935483871, 'recall': 1.0, 'f1_score': 0.9836065573770492}\n",
      "\n",
      "Model Sizes (in MB):\n",
      "Original: 18.90 MB\n",
      "FP32  : 8.53 MB\n",
      "FP16  : 4.32 MB\n",
      "INT8  : 7.76 MB\n",
      "\n",
      "Compression Ratios:\n",
      "FP32  : 2.22\n",
      "FP16  : 4.38\n",
      "INT8  : 2.44\n",
      "\n",
      "Inference Times (seconds):\n",
      "Original: 0.199969\n",
      "FP32  : 0.044619\n",
      "FP16  : 0.047922\n",
      "INT8  : 0.081526\n",
      "\n",
      "Throughputs (images/second):\n",
      "Original: 230.04\n",
      "FP32  : 1030.95\n",
      "FP16  : 959.89\n",
      "INT8  : 564.23\n",
      "\n",
      "Speedup Factors:\n",
      "FP32  : 4.48\n",
      "FP16  : 4.17\n",
      "INT8  : 2.45\n",
      "\n",
      "Metrics Comparison:\n",
      "Metric       Original     FP32         FP16         INT8        \n",
      "------------------------------------------------------------\n",
      "accuracy     0.9783       0.9783       0.9783       0.9783      \n",
      "precision    0.9677       0.9677       0.9677       0.9677      \n",
      "recall       1.0000       1.0000       1.0000       1.0000      \n",
      "f1_score     0.9836       0.9836       0.9836       0.9836      \n"
     ]
    }
   ],
   "source": [
    "# List of models and their directories\n",
    "models = [\"Original\", \"FP32\", \"FP16\", \"INT8\"]\n",
    "model_dirs = [saved_model_dir, fp32_optimized_model_dir, fp16_optimized_model_dir, int8_optimized_model_dir]\n",
    "\n",
    "# Initialize storage for results\n",
    "model_sizes = {}\n",
    "average_times = {}\n",
    "throughputs = {}\n",
    "metrics = {}\n",
    "\n",
    "# Load models and gather data\n",
    "for model_name, model_dir in zip(models, model_dirs):\n",
    "    # Get model size\n",
    "    model_sizes[model_name] = get_model_size(model_dir)\n",
    "    \n",
    "    # Load the model\n",
    "    model = tf.saved_model.load(model_dir)\n",
    "    \n",
    "    # Measure inference time and throughput\n",
    "    print(f'Checking inference time for {model_name} model')\n",
    "    avg_time, throughput = measure_inference_time(model, X_test, batch_size=batch_size)\n",
    "    average_times[model_name] = avg_time\n",
    "    throughputs[model_name] = throughput\n",
    "    \n",
    "    # Measure metrics\n",
    "    metrics[model_name] = measure_metrics(\n",
    "        model=model,\n",
    "        X_test=X_test,\n",
    "        Y_test=Y_test,\n",
    "        batch_size=batch_size,\n",
    "    )\n",
    "\n",
    "# Calculate compression ratios and speedup factors\n",
    "compression_ratios = {\n",
    "    model: model_sizes[\"Original\"] / size\n",
    "    for model, size in model_sizes.items() if model != \"Original\"\n",
    "}\n",
    "\n",
    "speedup_factors = {\n",
    "    model: average_times[\"Original\"] / time\n",
    "    for model, time in average_times.items() if model != \"Original\"\n",
    "}\n",
    "\n",
    "# Print results\n",
    "print(\"\\nModel Sizes (in MB):\")\n",
    "for model, size in model_sizes.items():\n",
    "    print(f\"{model:<6}: {size:.2f} MB\")\n",
    "\n",
    "print(\"\\nCompression Ratios:\")\n",
    "for model, ratio in compression_ratios.items():\n",
    "    print(f\"{model:<6}: {ratio:.2f}\")\n",
    "\n",
    "print(\"\\nInference Times (seconds):\")\n",
    "for model, avg_time in average_times.items():\n",
    "    print(f\"{model:<6}: {avg_time:.6f}\")\n",
    "\n",
    "print(\"\\nThroughputs (images/second):\")\n",
    "for model, throughput in throughputs.items():\n",
    "    print(f\"{model:<6}: {throughput:.2f}\")\n",
    "\n",
    "print(\"\\nSpeedup Factors:\")\n",
    "for model, speedup in speedup_factors.items():\n",
    "    print(f\"{model:<6}: {speedup:.2f}\")\n",
    "\n",
    "# Compare metrics\n",
    "print(\"\\nMetrics Comparison:\")\n",
    "metric_keys = next(iter(metrics.values())).keys()  # Get metric keys from any model's results\n",
    "print(f\"{'Metric':<12} \" + \" \".join([f\"{model:<12}\" for model in models]))\n",
    "print(\"-\" * (12 + 12 * len(models)))\n",
    "\n",
    "for metric in metric_keys:\n",
    "    values = [metrics[model][metric] for model in models]\n",
    "    values_str = \" \".join([f\"{value:<12.4f}\" for value in values])\n",
    "    print(f\"{metric:<12} {values_str}\")\n"
   ]
  },
  {
   "cell_type": "markdown",
   "metadata": {},
   "source": [
    "### Metrics"
   ]
  },
  {
   "cell_type": "code",
   "execution_count": null,
   "metadata": {},
   "outputs": [],
   "source": [
    "import matplotlib.pyplot as plt\n",
    "import seaborn as sns\n",
    "import pandas as pd\n",
    "\n",
    "# Example Data (Replace with your actual data)\n",
    "models = [\"Original\", \"FP32\", \"FP16\", \"INT8\"]\n",
    "model_sizes_data = [model_sizes[model] for model in models]\n",
    "throughputs_data = [throughputs[model] for model in models]\n",
    "average_times_data = [average_times[model] for model in models]\n",
    "\n",
    "# Dictionary to store metrics for all models\n",
    "metrics_data = {model: metrics[model] for model in models}\n",
    "\n",
    "# Prepare DataFrames for sizes and throughputs\n",
    "model_sizes_df = pd.DataFrame({\n",
    "    \"Model\": models,\n",
    "    \"Size (MB)\": model_sizes_data\n",
    "})\n",
    "\n",
    "throughputs_df = pd.DataFrame({\n",
    "    \"Model\": models,\n",
    "    \"Throughput (images/second)\": throughputs_data\n",
    "})\n",
    "\n",
    "average_times_df = pd.DataFrame({\n",
    "    \"Model\": models,\n",
    "    \"Average Inference Time (Seconds)\": average_times_data\n",
    "})\n",
    "\n",
    "# Function to plot model sizes\n",
    "def graph_model_size(model_sizes):\n",
    "    plt.figure(figsize=(8, 5))\n",
    "    blue_palette = sns.color_palette(\"Blues\", n_colors=len(model_sizes))\n",
    "    ax = sns.barplot(data=model_sizes, x=\"Model\", y=\"Size (MB)\", palette=blue_palette)\n",
    "    plt.title(\"Model Sizes Comparison\")\n",
    "    plt.ylabel(\"Size (MB)\")\n",
    "    plt.xlabel(\"Model\")\n",
    "\n",
    "    # Set y-axis ticks to increment by 0.5\n",
    "    max_size = model_sizes[\"Size (MB)\"].max()\n",
    "    plt.yticks(np.arange(0, max_size + 1, 1))\n",
    "    \n",
    "    # Annotate each bar with its height\n",
    "    for p in ax.patches:\n",
    "        ax.text(\n",
    "            p.get_x() + p.get_width() / 2,\n",
    "            p.get_height(),\n",
    "            f'{p.get_height():.4f}',\n",
    "            ha='center', va='bottom', fontsize=10\n",
    "        )\n",
    "    plt.tight_layout()\n",
    "    plt.savefig(\"../tensorRT_model/metrics/model_sizes.png\")\n",
    "    plt.show()\n",
    "\n",
    "# Function to plot throughputs\n",
    "def graph_throughput(throughputs):\n",
    "    plt.figure(figsize=(8, 5))\n",
    "    blue_palette = sns.color_palette(\"Blues\", n_colors=len(throughputs))\n",
    "    ax = sns.barplot(data=throughputs, x=\"Model\", y=\"Throughput (images/second)\", palette=blue_palette)\n",
    "    plt.title(\"Model Throughput Comparison\")\n",
    "    plt.ylabel(\"Throughput (images/second)\")\n",
    "    plt.xlabel(\"Model\")\n",
    "\n",
    "    # Set y-axis ticks to increment by 10\n",
    "    max_throughput = throughputs[\"Throughput (images/second)\"].max()\n",
    "    plt.yticks(range(0, int(max_throughput) + 10, 10))\n",
    "    \n",
    "    # Annotate each bar with its height\n",
    "    for p in ax.patches:\n",
    "        ax.text(\n",
    "            p.get_x() + p.get_width() / 2,\n",
    "            p.get_height(),\n",
    "            f'{p.get_height():.4f}',\n",
    "            ha='center', va='bottom', fontsize=10\n",
    "        )\n",
    "    plt.tight_layout()\n",
    "    plt.savefig(\"../tensorRT_model/metrics/throughput_comparison.png\")\n",
    "    plt.show()\n",
    "\n",
    "# Function to plot average inference times\n",
    "def graph_inference_times(average_times_df):\n",
    "    plt.figure(figsize=(8, 5))\n",
    "    blue_palette = sns.color_palette(\"Blues\", n_colors=len(average_times_df))\n",
    "    ax = sns.barplot(data=average_times_df, x=\"Model\", y=\"Average Inference Time (Seconds)\", palette=blue_palette)\n",
    "    plt.title(\"Average Inference Time Comparison\")\n",
    "    plt.ylabel(\"Inference Time (Seconds)\")\n",
    "    plt.xlabel(\"Model\")\n",
    "\n",
    "    # Set y-axis ticks to increment by 0.1\n",
    "    max_times = average_times_df[\"Average Inference Time (Seconds)\"].max()\n",
    "    plt.yticks(np.arange(0, max_times + 0.1, 0.1))\n",
    "\n",
    "    # Annotate each bar with its height\n",
    "    for p in ax.patches:\n",
    "        ax.text(\n",
    "            p.get_x() + p.get_width() / 2,\n",
    "            p.get_height(),\n",
    "            f'{p.get_height():.4f}',\n",
    "            ha='center', va='bottom', fontsize=10\n",
    "        )\n",
    "    plt.tight_layout()\n",
    "    plt.savefig(\"../tensorRT_model/metrics/average_inference_comparison.png\")\n",
    "    plt.show()\n",
    "\n",
    "# Function to compare metrics across models\n",
    "def graph_metrics(metrics_data):\n",
    "    # Convert metrics data into a DataFrame\n",
    "    metrics_df = pd.DataFrame(metrics_data).T.reset_index()\n",
    "    metrics_df = metrics_df.rename(columns={\"index\": \"Model\"})\n",
    "\n",
    "    # Melt for plotting\n",
    "    metrics_long = pd.melt(\n",
    "        metrics_df, id_vars=[\"Model\"], \n",
    "        var_name=\"Metric\", value_name=\"Value\"\n",
    "    )\n",
    "\n",
    "    # Grouped Bar Chart for Metrics\n",
    "    plt.figure(figsize=(14, 6))\n",
    "    blue_palette = sns.color_palette(\"Blues\", n_colors=len(metrics_data))\n",
    "    ax = sns.barplot(data=metrics_long, x=\"Metric\", y=\"Value\", hue=\"Model\", palette=blue_palette)\n",
    "    plt.title(\"Metrics Comparison\")\n",
    "    plt.ylabel(\"Value\")\n",
    "    plt.xlabel(\"Metric\")\n",
    "\n",
    "    # Set y-axis ticks to increment by 0.1\n",
    "    plt.yticks(np.arange(0, 1.1, 0.1))\n",
    "    \n",
    "    # Annotate each bar with its height\n",
    "    for p in ax.patches:\n",
    "        if p.get_height()>0:\n",
    "            ax.text(\n",
    "                p.get_x() + p.get_width() / 2,\n",
    "                p.get_height(),\n",
    "                f'{p.get_height():.4f}',\n",
    "                ha='center', va='bottom', fontsize=10\n",
    "            )\n",
    "    plt.legend(title=\"Model\", bbox_to_anchor=(1.05,1),loc=\"upper left\")\n",
    "    plt.tight_layout(pad=2)\n",
    "    plt.savefig(\"../tensorRT_model/metrics/metrics_comparison.png\")\n",
    "    plt.show()\n",
    "\n",
    "    print(\"\\nDetailed Metric Changes:\")\n",
    "    print(metrics_df)"
   ]
  },
  {
   "cell_type": "code",
   "execution_count": null,
   "metadata": {},
   "outputs": [
    {
     "name": "stderr",
     "output_type": "stream",
     "text": [
      "/tmp/ipykernel_12624/2250158058.py:33: FutureWarning: \n",
      "\n",
      "Passing `palette` without assigning `hue` is deprecated and will be removed in v0.14.0. Assign the `x` variable to `hue` and set `legend=False` for the same effect.\n",
      "\n",
      "  sns.barplot(data=model_sizes, x=\"Model\", y=\"Size (MB)\", palette=\"muted\")\n"
     ]
    },
    {
     "data": {
      "image/png": "[encoded data removed]",
      "text/plain": [
       "<Figure size 800x500 with 1 Axes>"
      ]
     },
     "metadata": {},
     "output_type": "display_data"
    },
    {
     "name": "stderr",
     "output_type": "stream",
     "text": [
      "/tmp/ipykernel_12624/2250158058.py:44: FutureWarning: \n",
      "\n",
      "Passing `palette` without assigning `hue` is deprecated and will be removed in v0.14.0. Assign the `x` variable to `hue` and set `legend=False` for the same effect.\n",
      "\n",
      "  sns.barplot(data=throughputs, x=\"Model\", y=\"Throughput (images/second)\", palette=\"muted\")\n"
     ]
    },
    {
     "data": {
      "image/png": "[encoded data removed]",
      "text/plain": [
       "<Figure size 800x500 with 1 Axes>"
      ]
     },
     "metadata": {},
     "output_type": "display_data"
    },
    {
     "name": "stderr",
     "output_type": "stream",
     "text": [
      "/tmp/ipykernel_12624/2250158058.py:54: FutureWarning: \n",
      "\n",
      "Passing `palette` without assigning `hue` is deprecated and will be removed in v0.14.0. Assign the `x` variable to `hue` and set `legend=False` for the same effect.\n",
      "\n",
      "  sns.barplot(data=average_times_df, x=\"Model\", y=\"Average Inference Time (Seconds)\", palette=\"muted\")\n"
     ]
    },
    {
     "data": {
      "image/png": "[encoded data removed]",
      "text/plain": [
       "<Figure size 800x500 with 1 Axes>"
      ]
     },
     "metadata": {},
     "output_type": "display_data"
    }
   ],
   "source": [
    "graph_model_size(model_sizes_df)  \n",
    "graph_throughput(throughputs_df)  \n",
    "graph_inference_times(average_times_df)\n",
    "graph_metrics(metrics_data)  "
   ]
  }
 ],
 "metadata": {
  "kernelspec": {
   "display_name": "Python 3",
   "language": "python",
   "name": "python3"
  },
  "language_info": {
   "codemirror_mode": {
    "name": "ipython",
    "version": 3
   },
   "file_extension": ".py",
   "mimetype": "text/x-python",
   "name": "python",
   "nbconvert_exporter": "python",
   "pygments_lexer": "ipython3",
   "version": "3.10.12"
  }
 },
 "nbformat": 4,
 "nbformat_minor": 2
}
